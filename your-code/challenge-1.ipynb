{
 "cells": [
  {
   "cell_type": "markdown",
   "metadata": {},
   "source": [
    "# Challenge 1 - Tic Tac Toe\n",
    "\n",
    "In this lab you will perform deep learning analysis on a dataset of playing [Tic Tac Toe](https://en.wikipedia.org/wiki/Tic-tac-toe).\n",
    "\n",
    "There are 9 grids in Tic Tac Toe that are coded as the following picture shows:\n",
    "\n",
    "![Tic Tac Toe Grids](tttboard.jpg)\n",
    "\n",
    "In the first 9 columns of the dataset you can find which marks (`x` or `o`) exist in the grids. If there is no mark in a certain grid, it is labeled as `b`. The last column is `class` which tells you whether Player X (who always moves first in Tic Tac Toe) wins in this configuration. Note that when `class` has the value `False`, it means either Player O wins the game or it ends up as a draw."
   ]
  },
  {
   "cell_type": "markdown",
   "metadata": {},
   "source": [
    "Follow the steps suggested below to conduct a neural network analysis using Tensorflow and Keras. You will build a deep learning model to predict whether Player X wins the game or not.\n",
    "\n",
    "## Step 1: Data Engineering\n",
    "\n",
    "This dataset is almost in the ready-to-use state so you do not need to worry about missing values and so on. Still, some simple data engineering is needed.\n",
    "\n",
    "1. Read `tic-tac-toe.csv` into a dataframe.\n",
    "1. Inspect the dataset. Determine if the dataset is reliable by eyeballing the data.\n",
    "1. Convert the categorical values to numeric in all columns.\n",
    "1. Separate the inputs and output.\n",
    "1. Normalize the input data."
   ]
  },
  {
   "cell_type": "code",
   "execution_count": 1,
   "metadata": {},
   "outputs": [
    {
     "name": "stdout",
     "output_type": "stream",
     "text": [
      "  TL TM TR ML MM MR BL BM BR  class\n",
      "0  x  x  x  x  o  o  x  o  o   True\n",
      "1  x  x  x  x  o  o  o  x  o   True\n",
      "2  x  x  x  x  o  o  o  o  x   True\n",
      "3  x  x  x  x  o  o  o  b  b   True\n",
      "4  x  x  x  x  o  o  b  o  b   True\n",
      "Shape: (958, 10)\n"
     ]
    }
   ],
   "source": [
    "# your code here\n",
    "\n",
    "# First, we need to import the pandas library. We give it the nickname 'pd' to type less.\n",
    "import pandas as pd\n",
    "\n",
    "# Now, we read the file. The result is stored in a variable called 'df' (short for DataFrame).\n",
    "df = pd.read_csv('tic-tac-toe.csv')\n",
    "\n",
    "# Let's check if it worked by looking at the first 5 rows of our data.\n",
    "print(df.head())\n",
    "print(\"Shape:\", df.shape)"
   ]
  },
  {
   "cell_type": "code",
   "execution_count": 2,
   "metadata": {},
   "outputs": [
    {
     "name": "stderr",
     "output_type": "stream",
     "text": [
      "/var/folders/tx/45hhw1yn48jfdqn2hmnhbhvw0000gn/T/ipykernel_17830/630537404.py:7: FutureWarning: DataFrame.applymap has been deprecated. Use DataFrame.map instead.\n",
      "  df_numeric = df.iloc[:, :9].applymap(mapping.get)\n"
     ]
    }
   ],
   "source": [
    "# We will use a 'dictionary' to define the mapping from letters to numbers.\n",
    "# It's like a real dictionary that translates words.\n",
    "mapping = {'b': 0, 'o': 1, 'x': 2}\n",
    "\n",
    "# Now, we apply this mapping to the first 9 columns.\n",
    "# The .iloc[:, :9] part means \"all rows, first 9 columns\".\n",
    "df_numeric = df.iloc[:, :9].applymap(mapping.get)"
   ]
  },
  {
   "cell_type": "markdown",
   "metadata": {},
   "source": [
    "\n",
    "***\n",
    "\n",
    "### 3. Why This Encoding? (0, 1, 2)\n",
    "\n",
    "We used a simple numeric encoding (`b`=0, `o`=1, `x`=2) instead of One-Hot Encoding for a specific reason:\n",
    "\n",
    "*   **Meaningful Order:** The categories here have a natural relationship for our specific goal. The value `2` (X) is the player whose win we are predicting, making it the most significant value. The value `1` (O) is the opponent. The value `0` (blank) is the absence of a player.\n",
    "*   **Preserving Information:** This numeric scale (0, 1, 2) subtly tells the neural network that an `x` is \"greater than\" an `o`, which is \"greater than\" a `b` in the context of predicting X's victory. One-Hot Encoding would have treated all three options as equally separate, losing this useful hint for the model.\n",
    "  ----"
   ]
  },
  {
   "cell_type": "code",
   "execution_count": 3,
   "metadata": {},
   "outputs": [
    {
     "name": "stdout",
     "output_type": "stream",
     "text": [
      "Numeric Data:\n",
      "   TL  TM  TR  ML  MM  MR  BL  BM  BR\n",
      "0   2   2   2   2   1   1   2   1   1\n",
      "1   2   2   2   2   1   1   1   2   1\n",
      "2   2   2   2   2   1   1   1   1   2\n",
      "3   2   2   2   2   1   1   1   0   0\n",
      "4   2   2   2   2   1   1   0   1   0\n",
      "\n",
      "Original Class Column:\n",
      "0    True\n",
      "1    True\n",
      "2    True\n",
      "3    True\n",
      "4    True\n",
      "Name: class, dtype: bool\n"
     ]
    }
   ],
   "source": [
    "# Let's check our work! Print the first 5 rows of the new numeric dataframe.\n",
    "print(\"Numeric Data:\")\n",
    "print(df_numeric.head())\n",
    "\n",
    "# Now, let's also check the 'class' column to see what it looks like.\n",
    "print(\"\\nOriginal Class Column:\")\n",
    "print(df['class'].head())"
   ]
  },
  {
   "cell_type": "markdown",
   "metadata": {},
   "source": [
    "### 4. Separate the inputs and output.\n"
   ]
  },
  {
   "cell_type": "code",
   "execution_count": 4,
   "metadata": {},
   "outputs": [
    {
     "name": "stdout",
     "output_type": "stream",
     "text": [
      "Shape of X (Input features): (958, 9)\n",
      "Shape of y (Target variable): (958,)\n",
      "\n",
      "First 5 rows of y:\n",
      "[1 1 1 1 1]\n"
     ]
    }
   ],
   "source": [
    "# Step 1: Separate inputs and output\n",
    "# X will be all rows (:) and all columns except the last one (:-1)\n",
    "X = df_numeric.values  # .values converts the DataFrame to a simple NumPy array, which Keras prefers.\n",
    "\n",
    "# y will be all rows (:) and only the last column (-1)\n",
    "# We also use .astype(int) to convert True/False into 1/0. This is required for the next steps.\n",
    "y = df['class'].astype(int).values\n",
    "\n",
    "# Let's check the shapes to make sure it worked!\n",
    "print(\"Shape of X (Input features):\", X.shape)\n",
    "print(\"Shape of y (Target variable):\", y.shape)\n",
    "print(\"\\nFirst 5 rows of y:\")\n",
    "print(y[:5])"
   ]
  },
  {
   "cell_type": "markdown",
   "metadata": {},
   "source": [
    "### 5. Normalize the input data."
   ]
  },
  {
   "cell_type": "code",
   "execution_count": 5,
   "metadata": {},
   "outputs": [
    {
     "name": "stdout",
     "output_type": "stream",
     "text": [
      "First row of original X: [2 2 2 2 1 1 2 1 1]\n",
      "First row of normalized X: [1.  1.  1.  1.  0.5 0.5 1.  0.5 0.5]\n"
     ]
    }
   ],
   "source": [
    "# Normalize the input data (X) by dividing by the maximum value (2)\n",
    "X_normalized = X / 2.0\n",
    "\n",
    "# Let's check the first row to see the result\n",
    "print(\"First row of original X:\", X[0])\n",
    "print(\"First row of normalized X:\", X_normalized[0])"
   ]
  },
  {
   "cell_type": "markdown",
   "metadata": {
    "vscode": {
     "languageId": "markdown"
    }
   },
   "source": [
    "We normalized the input features (`X`) by dividing all values by the maximum value (2). This transformed the data range from `[0, 1, 2]` to `[0.0, 0.5, 1.0]`.\n",
    "\n",
    "**Why?**\n",
    "Neural networks perform best when all input features are on a **common scale**. Normalization helps the model's internal math work more efficiently, leading to faster training and often better performance. It ensures no single feature (grid cell) dominates the learning process just because it has larger numbers."
   ]
  },
  {
   "cell_type": "markdown",
   "metadata": {},
   "source": [
    "## Step 2: Build Neural Network\n",
    "\n",
    "To build the neural network, you can refer to your own codes you wrote while following the [Deep Learning with Python, TensorFlow, and Keras tutorial](https://www.youtube.com/watch?v=wQ8BIBpya2k) in the lesson. It's pretty similar to what you will be doing in this lab.\n",
    "\n",
    "1. Split the training and test data.\n",
    "1. Create a `Sequential` model.\n",
    "1. Add several layers to your model. Make sure you use ReLU as the activation function for the middle layers. Use Softmax for the output layer because each output has a single lable and all the label probabilities add up to 1.\n",
    "1. Compile the model using `adam` as the optimizer and `sparse_categorical_crossentropy` as the loss function. For metrics, use `accuracy` for now.\n",
    "1. Fit the training data.\n",
    "1. Evaluate your neural network model with the test data.\n",
    "1. Save your model as `tic-tac-toe.model`."
   ]
  },
  {
   "cell_type": "markdown",
   "metadata": {},
   "source": [
    "### Step 2.1: Split the data into Training and Test sets"
   ]
  },
  {
   "cell_type": "code",
   "execution_count": 6,
   "metadata": {},
   "outputs": [
    {
     "name": "stdout",
     "output_type": "stream",
     "text": [
      "Training data shape: (766, 9)\n",
      "Testing data shape: (192, 9)\n",
      "Training labels shape: (766,)\n",
      "Testing labels shape: (192,)\n"
     ]
    }
   ],
   "source": [
    "# Import the function we need to split the data\n",
    "from sklearn.model_selection import train_test_split\n",
    "\n",
    "# Split the data (X_normalized is our input, y is our output)\n",
    "# test_size=0.2 means 20% of data is for testing\n",
    "# random_state=42 is like choosing a specific seed for a random number generator.\n",
    "# This ensures we get the same split every time we run the code, which is good for reproducibility.\n",
    "X_train, X_test, y_train, y_test = train_test_split(X_normalized, y, test_size=0.2, random_state=42)\n",
    "\n",
    "# Let's check the shapes of our new sets\n",
    "print(\"Training data shape:\", X_train.shape)\n",
    "print(\"Testing data shape:\", X_test.shape)\n",
    "print(\"Training labels shape:\", y_train.shape)\n",
    "print(\"Testing labels shape:\", y_test.shape)"
   ]
  },
  {
   "cell_type": "markdown",
   "metadata": {},
   "source": [
    "### Step 2.2: Create a `Sequential` Model\n",
    "\n",
    "In Keras (the library we use with TensorFlow), a Sequential model is like building a layer cake. We add one layer on top of the other, in sequence."
   ]
  },
  {
   "cell_type": "code",
   "execution_count": 7,
   "metadata": {},
   "outputs": [
    {
     "name": "stdout",
     "output_type": "stream",
     "text": [
      "Empty model created. Now we will add layers to it.\n"
     ]
    }
   ],
   "source": [
    "# your code here\n",
    "\n",
    "# First, we need to import the necessary parts from TensorFlow\n",
    "import tensorflow as tf\n",
    "from tensorflow.keras.models import Sequential\n",
    "from tensorflow.keras.layers import Dense\n",
    "\n",
    "# Create a Sequential model\n",
    "model = Sequential()\n",
    "print(\"Empty model created. Now we will add layers to it.\")\n"
   ]
  },
  {
   "cell_type": "markdown",
   "metadata": {},
   "source": [
    "### Step 2.3: Add Layers to the Model\n",
    "\n"
   ]
  },
  {
   "cell_type": "code",
   "execution_count": 8,
   "metadata": {},
   "outputs": [
    {
     "name": "stderr",
     "output_type": "stream",
     "text": [
      "/opt/anaconda3/envs/tf_env/lib/python3.11/site-packages/keras/src/layers/core/dense.py:92: UserWarning: Do not pass an `input_shape`/`input_dim` argument to a layer. When using Sequential models, prefer using an `Input(shape)` object as the first layer in the model instead.\n",
      "  super().__init__(activity_regularizer=activity_regularizer, **kwargs)\n",
      "2025-09-09 18:19:57.502337: I metal_plugin/src/device/metal_device.cc:1154] Metal device set to: Apple M3\n",
      "2025-09-09 18:19:57.502367: I metal_plugin/src/device/metal_device.cc:296] systemMemory: 16.00 GB\n",
      "2025-09-09 18:19:57.502395: I metal_plugin/src/device/metal_device.cc:313] maxCacheSize: 5.33 GB\n",
      "2025-09-09 18:19:57.502440: I tensorflow/core/common_runtime/pluggable_device/pluggable_device_factory.cc:305] Could not identify NUMA node of platform GPU ID 0, defaulting to 0. Your kernel may not have been built with NUMA support.\n",
      "2025-09-09 18:19:57.502528: I tensorflow/core/common_runtime/pluggable_device/pluggable_device_factory.cc:271] Created TensorFlow device (/job:localhost/replica:0/task:0/device:GPU:0 with 0 MB memory) -> physical PluggableDevice (device: 0, name: METAL, pci bus id: <undefined>)\n"
     ]
    },
    {
     "data": {
      "text/html": [
       "<pre style=\"white-space:pre;overflow-x:auto;line-height:normal;font-family:Menlo,'DejaVu Sans Mono',consolas,'Courier New',monospace\"><span style=\"font-weight: bold\">Model: \"sequential\"</span>\n",
       "</pre>\n"
      ],
      "text/plain": [
       "\u001b[1mModel: \"sequential\"\u001b[0m\n"
      ]
     },
     "metadata": {},
     "output_type": "display_data"
    },
    {
     "data": {
      "text/html": [
       "<pre style=\"white-space:pre;overflow-x:auto;line-height:normal;font-family:Menlo,'DejaVu Sans Mono',consolas,'Courier New',monospace\">┏━━━━━━━━━━━━━━━━━━━━━━━━━━━━━━━━━┳━━━━━━━━━━━━━━━━━━━━━━━━┳━━━━━━━━━━━━━━━┓\n",
       "┃<span style=\"font-weight: bold\"> Layer (type)                    </span>┃<span style=\"font-weight: bold\"> Output Shape           </span>┃<span style=\"font-weight: bold\">       Param # </span>┃\n",
       "┡━━━━━━━━━━━━━━━━━━━━━━━━━━━━━━━━━╇━━━━━━━━━━━━━━━━━━━━━━━━╇━━━━━━━━━━━━━━━┩\n",
       "│ dense (<span style=\"color: #0087ff; text-decoration-color: #0087ff\">Dense</span>)                   │ (<span style=\"color: #00d7ff; text-decoration-color: #00d7ff\">None</span>, <span style=\"color: #00af00; text-decoration-color: #00af00\">128</span>)            │         <span style=\"color: #00af00; text-decoration-color: #00af00\">1,280</span> │\n",
       "├─────────────────────────────────┼────────────────────────┼───────────────┤\n",
       "│ dense_1 (<span style=\"color: #0087ff; text-decoration-color: #0087ff\">Dense</span>)                 │ (<span style=\"color: #00d7ff; text-decoration-color: #00d7ff\">None</span>, <span style=\"color: #00af00; text-decoration-color: #00af00\">64</span>)             │         <span style=\"color: #00af00; text-decoration-color: #00af00\">8,256</span> │\n",
       "├─────────────────────────────────┼────────────────────────┼───────────────┤\n",
       "│ dense_2 (<span style=\"color: #0087ff; text-decoration-color: #0087ff\">Dense</span>)                 │ (<span style=\"color: #00d7ff; text-decoration-color: #00d7ff\">None</span>, <span style=\"color: #00af00; text-decoration-color: #00af00\">2</span>)              │           <span style=\"color: #00af00; text-decoration-color: #00af00\">130</span> │\n",
       "└─────────────────────────────────┴────────────────────────┴───────────────┘\n",
       "</pre>\n"
      ],
      "text/plain": [
       "┏━━━━━━━━━━━━━━━━━━━━━━━━━━━━━━━━━┳━━━━━━━━━━━━━━━━━━━━━━━━┳━━━━━━━━━━━━━━━┓\n",
       "┃\u001b[1m \u001b[0m\u001b[1mLayer (type)                   \u001b[0m\u001b[1m \u001b[0m┃\u001b[1m \u001b[0m\u001b[1mOutput Shape          \u001b[0m\u001b[1m \u001b[0m┃\u001b[1m \u001b[0m\u001b[1m      Param #\u001b[0m\u001b[1m \u001b[0m┃\n",
       "┡━━━━━━━━━━━━━━━━━━━━━━━━━━━━━━━━━╇━━━━━━━━━━━━━━━━━━━━━━━━╇━━━━━━━━━━━━━━━┩\n",
       "│ dense (\u001b[38;5;33mDense\u001b[0m)                   │ (\u001b[38;5;45mNone\u001b[0m, \u001b[38;5;34m128\u001b[0m)            │         \u001b[38;5;34m1,280\u001b[0m │\n",
       "├─────────────────────────────────┼────────────────────────┼───────────────┤\n",
       "│ dense_1 (\u001b[38;5;33mDense\u001b[0m)                 │ (\u001b[38;5;45mNone\u001b[0m, \u001b[38;5;34m64\u001b[0m)             │         \u001b[38;5;34m8,256\u001b[0m │\n",
       "├─────────────────────────────────┼────────────────────────┼───────────────┤\n",
       "│ dense_2 (\u001b[38;5;33mDense\u001b[0m)                 │ (\u001b[38;5;45mNone\u001b[0m, \u001b[38;5;34m2\u001b[0m)              │           \u001b[38;5;34m130\u001b[0m │\n",
       "└─────────────────────────────────┴────────────────────────┴───────────────┘\n"
      ]
     },
     "metadata": {},
     "output_type": "display_data"
    },
    {
     "data": {
      "text/html": [
       "<pre style=\"white-space:pre;overflow-x:auto;line-height:normal;font-family:Menlo,'DejaVu Sans Mono',consolas,'Courier New',monospace\"><span style=\"font-weight: bold\"> Total params: </span><span style=\"color: #00af00; text-decoration-color: #00af00\">9,666</span> (37.76 KB)\n",
       "</pre>\n"
      ],
      "text/plain": [
       "\u001b[1m Total params: \u001b[0m\u001b[38;5;34m9,666\u001b[0m (37.76 KB)\n"
      ]
     },
     "metadata": {},
     "output_type": "display_data"
    },
    {
     "data": {
      "text/html": [
       "<pre style=\"white-space:pre;overflow-x:auto;line-height:normal;font-family:Menlo,'DejaVu Sans Mono',consolas,'Courier New',monospace\"><span style=\"font-weight: bold\"> Trainable params: </span><span style=\"color: #00af00; text-decoration-color: #00af00\">9,666</span> (37.76 KB)\n",
       "</pre>\n"
      ],
      "text/plain": [
       "\u001b[1m Trainable params: \u001b[0m\u001b[38;5;34m9,666\u001b[0m (37.76 KB)\n"
      ]
     },
     "metadata": {},
     "output_type": "display_data"
    },
    {
     "data": {
      "text/html": [
       "<pre style=\"white-space:pre;overflow-x:auto;line-height:normal;font-family:Menlo,'DejaVu Sans Mono',consolas,'Courier New',monospace\"><span style=\"font-weight: bold\"> Non-trainable params: </span><span style=\"color: #00af00; text-decoration-color: #00af00\">0</span> (0.00 B)\n",
       "</pre>\n"
      ],
      "text/plain": [
       "\u001b[1m Non-trainable params: \u001b[0m\u001b[38;5;34m0\u001b[0m (0.00 B)\n"
      ]
     },
     "metadata": {},
     "output_type": "display_data"
    }
   ],
   "source": [
    "# Add the input and first hidden layer (128 neurons)\n",
    "\n",
    "# 'Dense' means every neuron is connected to every neuron in the next layer.\n",
    "# input_dim=9 defines the input layer (9 features from our board).\n",
    "# units=128 defines how many neurons this layer has. We can start with this number.\n",
    "# activation='relu' is the function that helps the model learn non-linear patterns.\n",
    "model.add(Dense(units=128, activation='relu', input_dim=9))\n",
    "\n",
    "# Add a second hidden layer (64 neurons)\n",
    "model.add(Dense(units=64, activation='relu'))\n",
    "\n",
    "# 3. CHANGE THE OUTPUT LAYER for 'sparse_categorical_crossentropy'\n",
    "# We have 2 categories: \"X does not win\" (class 0) and \"X wins\" (class 1)\n",
    "# So we need 2 neurons and softmax activation\n",
    "model.add(Dense(units=2, activation='softmax'))\n",
    "\n",
    "\n",
    "# Let's see a summary of our model's structure!\n",
    "model.summary()"
   ]
  },
  {
   "cell_type": "markdown",
   "metadata": {},
   "source": [
    "### Step 2.4: Compile the Model"
   ]
  },
  {
   "cell_type": "code",
   "execution_count": 9,
   "metadata": {},
   "outputs": [
    {
     "name": "stdout",
     "output_type": "stream",
     "text": [
      "Model compiled successfully! Ready to train.\n"
     ]
    }
   ],
   "source": [
    "# 4. COMPILE with the instructed loss function\n",
    "model.compile(optimizer='adam',\n",
    "              loss='sparse_categorical_crossentropy', # CHANGED\n",
    "              metrics=['accuracy'])\n",
    "print(\"Model compiled successfully! Ready to train.\")\n"
   ]
  },
  {
   "cell_type": "markdown",
   "metadata": {},
   "source": [
    "\n",
    "The `compile` step sets the rules for *how* the neural network will learn.\n",
    "\n",
    "*   **Optimizer (`optimizer='adam'`):** This is the algorithm that adjusts the model's internal settings to reduce errors. Think of it as the **engine** that drives the learning process. **Adam** is a very popular and efficient optimizer that works well for most problems.\n",
    "\n",
    "*   **Loss Function (`loss='sparse_categorical_crossentropy'`):** This is how the model calculates its **mistake**. It's a mathematical formula that measures the difference between the model's prediction and the correct answer. This specific function is ideal for classification problems where the outputs are categories (like \"win\" or \"lose\").\n",
    "\n",
    "*   **Metrics (`metrics=['accuracy']`):** This is how we, the humans, evaluate the model's performance. **Accuracy** is the simple percentage of correct predictions, which is easy for us to understand.\n",
    "\n",
    "In short: **The compiler sets up the \"engine\" (Adam), defines how to measure \"mistakes\" (Loss), and how to report \"progress\" (Accuracy).**"
   ]
  },
  {
   "cell_type": "markdown",
   "metadata": {},
   "source": [
    "### Step 2.5: Fit the Training Data"
   ]
  },
  {
   "cell_type": "code",
   "execution_count": 10,
   "metadata": {},
   "outputs": [
    {
     "name": "stdout",
     "output_type": "stream",
     "text": [
      "Epoch 1/30\n"
     ]
    },
    {
     "name": "stderr",
     "output_type": "stream",
     "text": [
      "2025-09-09 18:19:57.885398: I tensorflow/core/grappler/optimizers/custom_graph_optimizer_registry.cc:117] Plugin optimizer for device_type GPU is enabled.\n"
     ]
    },
    {
     "name": "stdout",
     "output_type": "stream",
     "text": [
      "\u001b[1m24/24\u001b[0m \u001b[32m━━━━━━━━━━━━━━━━━━━━\u001b[0m\u001b[37m\u001b[0m \u001b[1m1s\u001b[0m 13ms/step - accuracy: 0.6567 - loss: 0.6366 - val_accuracy: 0.6615 - val_loss: 0.6309\n",
      "Epoch 2/30\n",
      "\u001b[1m24/24\u001b[0m \u001b[32m━━━━━━━━━━━━━━━━━━━━\u001b[0m\u001b[37m\u001b[0m \u001b[1m0s\u001b[0m 7ms/step - accuracy: 0.6762 - loss: 0.6232 - val_accuracy: 0.6823 - val_loss: 0.6283\n",
      "Epoch 3/30\n",
      "\u001b[1m24/24\u001b[0m \u001b[32m━━━━━━━━━━━━━━━━━━━━\u001b[0m\u001b[37m\u001b[0m \u001b[1m0s\u001b[0m 7ms/step - accuracy: 0.6762 - loss: 0.6174 - val_accuracy: 0.6719 - val_loss: 0.6280\n",
      "Epoch 4/30\n",
      "\u001b[1m24/24\u001b[0m \u001b[32m━━━━━━━━━━━━━━━━━━━━\u001b[0m\u001b[37m\u001b[0m \u001b[1m0s\u001b[0m 7ms/step - accuracy: 0.6815 - loss: 0.6210 - val_accuracy: 0.6719 - val_loss: 0.6258\n",
      "Epoch 5/30\n",
      "\u001b[1m24/24\u001b[0m \u001b[32m━━━━━━━━━━━━━━━━━━━━\u001b[0m\u001b[37m\u001b[0m \u001b[1m0s\u001b[0m 7ms/step - accuracy: 0.6815 - loss: 0.6161 - val_accuracy: 0.6771 - val_loss: 0.6286\n",
      "Epoch 6/30\n",
      "\u001b[1m24/24\u001b[0m \u001b[32m━━━━━━━━━━━━━━━━━━━━\u001b[0m\u001b[37m\u001b[0m \u001b[1m0s\u001b[0m 7ms/step - accuracy: 0.6841 - loss: 0.6161 - val_accuracy: 0.6927 - val_loss: 0.6295\n",
      "Epoch 7/30\n",
      "\u001b[1m24/24\u001b[0m \u001b[32m━━━━━━━━━━━━━━━━━━━━\u001b[0m\u001b[37m\u001b[0m \u001b[1m0s\u001b[0m 7ms/step - accuracy: 0.6736 - loss: 0.6171 - val_accuracy: 0.6562 - val_loss: 0.6493\n",
      "Epoch 8/30\n",
      "\u001b[1m24/24\u001b[0m \u001b[32m━━━━━━━━━━━━━━━━━━━━\u001b[0m\u001b[37m\u001b[0m \u001b[1m0s\u001b[0m 7ms/step - accuracy: 0.6762 - loss: 0.6181 - val_accuracy: 0.6823 - val_loss: 0.6258\n",
      "Epoch 9/30\n",
      "\u001b[1m24/24\u001b[0m \u001b[32m━━━━━━━━━━━━━━━━━━━━\u001b[0m\u001b[37m\u001b[0m \u001b[1m0s\u001b[0m 7ms/step - accuracy: 0.6893 - loss: 0.6165 - val_accuracy: 0.6823 - val_loss: 0.6255\n",
      "Epoch 10/30\n",
      "\u001b[1m24/24\u001b[0m \u001b[32m━━━━━━━━━━━━━━━━━━━━\u001b[0m\u001b[37m\u001b[0m \u001b[1m0s\u001b[0m 7ms/step - accuracy: 0.6684 - loss: 0.6206 - val_accuracy: 0.6875 - val_loss: 0.6243\n",
      "Epoch 11/30\n",
      "\u001b[1m24/24\u001b[0m \u001b[32m━━━━━━━━━━━━━━━━━━━━\u001b[0m\u001b[37m\u001b[0m \u001b[1m0s\u001b[0m 7ms/step - accuracy: 0.6697 - loss: 0.6207 - val_accuracy: 0.6823 - val_loss: 0.6280\n",
      "Epoch 12/30\n",
      "\u001b[1m24/24\u001b[0m \u001b[32m━━━━━━━━━━━━━━━━━━━━\u001b[0m\u001b[37m\u001b[0m \u001b[1m0s\u001b[0m 7ms/step - accuracy: 0.6867 - loss: 0.6153 - val_accuracy: 0.6615 - val_loss: 0.6224\n",
      "Epoch 13/30\n",
      "\u001b[1m24/24\u001b[0m \u001b[32m━━━━━━━━━━━━━━━━━━━━\u001b[0m\u001b[37m\u001b[0m \u001b[1m0s\u001b[0m 7ms/step - accuracy: 0.6736 - loss: 0.6219 - val_accuracy: 0.6615 - val_loss: 0.6375\n",
      "Epoch 14/30\n",
      "\u001b[1m24/24\u001b[0m \u001b[32m━━━━━━━━━━━━━━━━━━━━\u001b[0m\u001b[37m\u001b[0m \u001b[1m0s\u001b[0m 8ms/step - accuracy: 0.6619 - loss: 0.6213 - val_accuracy: 0.6510 - val_loss: 0.6395\n",
      "Epoch 15/30\n",
      "\u001b[1m24/24\u001b[0m \u001b[32m━━━━━━━━━━━━━━━━━━━━\u001b[0m\u001b[37m\u001b[0m \u001b[1m0s\u001b[0m 7ms/step - accuracy: 0.6619 - loss: 0.6283 - val_accuracy: 0.6719 - val_loss: 0.6311\n",
      "Epoch 16/30\n",
      "\u001b[1m24/24\u001b[0m \u001b[32m━━━━━━━━━━━━━━━━━━━━\u001b[0m\u001b[37m\u001b[0m \u001b[1m0s\u001b[0m 8ms/step - accuracy: 0.6802 - loss: 0.6182 - val_accuracy: 0.6771 - val_loss: 0.6244\n",
      "Epoch 17/30\n",
      "\u001b[1m24/24\u001b[0m \u001b[32m━━━━━━━━━━━━━━━━━━━━\u001b[0m\u001b[37m\u001b[0m \u001b[1m0s\u001b[0m 9ms/step - accuracy: 0.6802 - loss: 0.6204 - val_accuracy: 0.6771 - val_loss: 0.6211\n",
      "Epoch 18/30\n",
      "\u001b[1m24/24\u001b[0m \u001b[32m━━━━━━━━━━━━━━━━━━━━\u001b[0m\u001b[37m\u001b[0m \u001b[1m0s\u001b[0m 9ms/step - accuracy: 0.6854 - loss: 0.6211 - val_accuracy: 0.6458 - val_loss: 0.6274\n",
      "Epoch 19/30\n",
      "\u001b[1m24/24\u001b[0m \u001b[32m━━━━━━━━━━━━━━━━━━━━\u001b[0m\u001b[37m\u001b[0m \u001b[1m0s\u001b[0m 9ms/step - accuracy: 0.6593 - loss: 0.6192 - val_accuracy: 0.6875 - val_loss: 0.6345\n",
      "Epoch 20/30\n",
      "\u001b[1m24/24\u001b[0m \u001b[32m━━━━━━━━━━━━━━━━━━━━\u001b[0m\u001b[37m\u001b[0m \u001b[1m0s\u001b[0m 13ms/step - accuracy: 0.6371 - loss: 0.6289 - val_accuracy: 0.6510 - val_loss: 0.6572\n",
      "Epoch 21/30\n",
      "\u001b[1m24/24\u001b[0m \u001b[32m━━━━━━━━━━━━━━━━━━━━\u001b[0m\u001b[37m\u001b[0m \u001b[1m0s\u001b[0m 7ms/step - accuracy: 0.6697 - loss: 0.6304 - val_accuracy: 0.6667 - val_loss: 0.6344\n",
      "Epoch 22/30\n",
      "\u001b[1m24/24\u001b[0m \u001b[32m━━━━━━━━━━━━━━━━━━━━\u001b[0m\u001b[37m\u001b[0m \u001b[1m0s\u001b[0m 7ms/step - accuracy: 0.6593 - loss: 0.6252 - val_accuracy: 0.6562 - val_loss: 0.6241\n",
      "Epoch 23/30\n",
      "\u001b[1m24/24\u001b[0m \u001b[32m━━━━━━━━━━━━━━━━━━━━\u001b[0m\u001b[37m\u001b[0m \u001b[1m0s\u001b[0m 7ms/step - accuracy: 0.6815 - loss: 0.6220 - val_accuracy: 0.6719 - val_loss: 0.6369\n",
      "Epoch 24/30\n",
      "\u001b[1m24/24\u001b[0m \u001b[32m━━━━━━━━━━━━━━━━━━━━\u001b[0m\u001b[37m\u001b[0m \u001b[1m0s\u001b[0m 7ms/step - accuracy: 0.6775 - loss: 0.6190 - val_accuracy: 0.6771 - val_loss: 0.6242\n",
      "Epoch 25/30\n",
      "\u001b[1m24/24\u001b[0m \u001b[32m━━━━━━━━━━━━━━━━━━━━\u001b[0m\u001b[37m\u001b[0m \u001b[1m0s\u001b[0m 7ms/step - accuracy: 0.6841 - loss: 0.6240 - val_accuracy: 0.6458 - val_loss: 0.6217\n",
      "Epoch 26/30\n",
      "\u001b[1m24/24\u001b[0m \u001b[32m━━━━━━━━━━━━━━━━━━━━\u001b[0m\u001b[37m\u001b[0m \u001b[1m0s\u001b[0m 7ms/step - accuracy: 0.6567 - loss: 0.6332 - val_accuracy: 0.6719 - val_loss: 0.6385\n",
      "Epoch 27/30\n",
      "\u001b[1m24/24\u001b[0m \u001b[32m━━━━━━━━━━━━━━━━━━━━\u001b[0m\u001b[37m\u001b[0m \u001b[1m0s\u001b[0m 7ms/step - accuracy: 0.6684 - loss: 0.6342 - val_accuracy: 0.6562 - val_loss: 0.6323\n",
      "Epoch 28/30\n",
      "\u001b[1m24/24\u001b[0m \u001b[32m━━━━━━━━━━━━━━━━━━━━\u001b[0m\u001b[37m\u001b[0m \u001b[1m0s\u001b[0m 7ms/step - accuracy: 0.6684 - loss: 0.6212 - val_accuracy: 0.6250 - val_loss: 0.6362\n",
      "Epoch 29/30\n",
      "\u001b[1m24/24\u001b[0m \u001b[32m━━━━━━━━━━━━━━━━━━━━\u001b[0m\u001b[37m\u001b[0m \u001b[1m0s\u001b[0m 8ms/step - accuracy: 0.6723 - loss: 0.6279 - val_accuracy: 0.6302 - val_loss: 0.6391\n",
      "Epoch 30/30\n",
      "\u001b[1m24/24\u001b[0m \u001b[32m━━━━━━━━━━━━━━━━━━━━\u001b[0m\u001b[37m\u001b[0m \u001b[1m0s\u001b[0m 7ms/step - accuracy: 0.6436 - loss: 0.6370 - val_accuracy: 0.5833 - val_loss: 0.6705\n",
      "Model training complete!\n"
     ]
    }
   ],
   "source": [
    "# Train the model\n",
    "history = model.fit(X_train, y_train,\n",
    "                    epochs=30,\n",
    "                    batch_size=32,\n",
    "                    validation_data=(X_test, y_test)) # This lets us see test accuracy after each epoch\n",
    "\n",
    "print(\"Model training complete!\")\n"
   ]
  },
  {
   "cell_type": "markdown",
   "metadata": {},
   "source": [
    "### Step 2.6: Evaluate the Model with the Test Data\n",
    "\n"
   ]
  },
  {
   "cell_type": "code",
   "execution_count": 11,
   "metadata": {},
   "outputs": [
    {
     "name": "stdout",
     "output_type": "stream",
     "text": [
      "\u001b[1m6/6\u001b[0m \u001b[32m━━━━━━━━━━━━━━━━━━━━\u001b[0m\u001b[37m\u001b[0m \u001b[1m0s\u001b[0m 5ms/step - accuracy: 0.5833 - loss: 0.6705\n",
      "\n",
      "--- Final Evaluation on Test Set ---\n",
      "Test Loss: 0.6705\n",
      "Test Accuracy: 0.5833\n"
     ]
    }
   ],
   "source": [
    "# Evaluate the model on the test set\n",
    "test_loss, test_accuracy = model.evaluate(X_test, y_test)\n",
    "\n",
    "# Print the results in a nice format\n",
    "print(\"\\n--- Final Evaluation on Test Set ---\")\n",
    "print(f\"Test Loss: {test_loss:.4f}\")\n",
    "print(f\"Test Accuracy: {test_accuracy:.4f}\")"
   ]
  },
  {
   "cell_type": "markdown",
   "metadata": {},
   "source": [
    "### Step 2.7: Save your model as `tic-tac-toe.model`."
   ]
  },
  {
   "cell_type": "code",
   "execution_count": 12,
   "metadata": {},
   "outputs": [
    {
     "name": "stdout",
     "output_type": "stream",
     "text": [
      "Model saved as 'tic-tac-toe.model.keras'\n"
     ]
    }
   ],
   "source": [
    "# Save the model using the newer .keras format (recommended)\n",
    "model.save('tic-tac-toe.model.keras') # Just add .keras to the end\n",
    "print(\"Model saved as 'tic-tac-toe.model.keras'\")"
   ]
  },
  {
   "cell_type": "markdown",
   "metadata": {},
   "source": [
    "## Step 3: Make Predictions\n",
    "\n",
    "Now load your saved model and use it to make predictions on a few random rows in the test dataset. Check if the predictions are correct."
   ]
  },
  {
   "cell_type": "code",
   "execution_count": 13,
   "metadata": {},
   "outputs": [
    {
     "name": "stdout",
     "output_type": "stream",
     "text": [
      "Model loaded successfully!\n",
      "\u001b[1m1/1\u001b[0m \u001b[32m━━━━━━━━━━━━━━━━━━━━\u001b[0m\u001b[37m\u001b[0m \u001b[1m0s\u001b[0m 32ms/step\n",
      "\n",
      "Raw predictions (probabilities for class 0 and class 1):\n",
      "[[0.48108077 0.5189193 ]\n",
      " [0.47165906 0.5283409 ]\n",
      " [0.70993924 0.29006073]\n",
      " [0.7912103  0.2087897 ]\n",
      " [0.43603465 0.5639654 ]]\n",
      "\n",
      "Predicted class (0 = X does NOT win, 1 = X wins): [1 1 0 0 1]\n",
      "    True class (0 = X does NOT win, 1 = X wins): [1 0 1 0 1]\n",
      "\n",
      "Checking predictions:\n",
      "Sample 1: Predicted 1, Actual 1 - ✓ CORRECT\n",
      "Sample 2: Predicted 1, Actual 0 - ✗ WRONG\n",
      "Sample 3: Predicted 0, Actual 1 - ✗ WRONG\n",
      "Sample 4: Predicted 0, Actual 0 - ✓ CORRECT\n",
      "Sample 5: Predicted 1, Actual 1 - ✓ CORRECT\n"
     ]
    }
   ],
   "source": [
    "# your code here\n",
    "\n",
    "# Step 3: Make Predictions\n",
    "\n",
    "# 1. Load the saved model\n",
    "# (Use the exact same filename you used to save it, including the .keras extension)\n",
    "loaded_model = tf.keras.models.load_model('tic-tac-toe.model.keras')\n",
    "print(\"Model loaded successfully!\")\n",
    "\n",
    "# 2. Let's select 5 random rows from the test data (X_test)\n",
    "import numpy as np\n",
    "\n",
    "# Get 5 random indices from the test set\n",
    "random_indices = np.random.choice(len(X_test), size=5, replace=False)\n",
    "\n",
    "# Use those indices to get the actual data and labels\n",
    "random_test_samples = X_test[random_indices]\n",
    "random_true_labels = y_test[random_indices]\n",
    "\n",
    "# 3. Use the loaded model to make predictions on these samples\n",
    "# model.predict() returns probabilities for each class [prob_class_0, prob_class_1]\n",
    "predictions = loaded_model.predict(random_test_samples)\n",
    "print(\"\\nRaw predictions (probabilities for class 0 and class 1):\")\n",
    "print(predictions)\n",
    "\n",
    "# 4. Interpret the predictions:\n",
    "# The model outputs probabilities for each class. We take the class with the highest probability.\n",
    "# np.argmax finds the index of the highest value in each prediction.\n",
    "predicted_classes = np.argmax(predictions, axis=1)\n",
    "print(\"\\nPredicted class (0 = X does NOT win, 1 = X wins):\", predicted_classes)\n",
    "print(\"    True class (0 = X does NOT win, 1 = X wins):\", random_true_labels)\n",
    "\n",
    "# 5. Check if the predictions are correct\n",
    "print(\"\\nChecking predictions:\")\n",
    "for i in range(5):\n",
    "    is_correct = (predicted_classes[i] == random_true_labels[i])\n",
    "    result = \"✓ CORRECT\" if is_correct else \"✗ WRONG\"\n",
    "    print(f\"Sample {i+1}: Predicted {predicted_classes[i]}, Actual {random_true_labels[i]} - {result}\")"
   ]
  },
  {
   "cell_type": "markdown",
   "metadata": {},
   "source": [
    "## Step 4: Improve Your Model\n",
    "\n",
    "Did your model achieve low loss (<0.1) and high accuracy (>0.95)? If not, try to improve your model.\n",
    "\n",
    "But how? There are so many things you can play with in Tensorflow and in the next challenge you'll learn about these things. But in this challenge, let's just do a few things to see if they will help.\n",
    "\n",
    "* Add more layers to your model. If the data are complex you need more layers. But don't use more layers than you need. If adding more layers does not improve the model performance you don't need additional layers.\n",
    "* Adjust the learning rate when you compile the model. This means you will create a custom `tf.keras.optimizers.Adam` instance where you specify the learning rate you want. Then pass the instance to `model.compile` as the optimizer.\n",
    "    * `tf.keras.optimizers.Adam` [reference](https://www.tensorflow.org/api_docs/python/tf/keras/optimizers/Adam).\n",
    "    * Don't worry if you don't understand what the learning rate does. You'll learn about it in the next challenge.\n",
    "* Adjust the number of epochs when you fit the training data to the model. Your model performance continues to improve as you train more epochs. But eventually it will reach the ceiling and the performance will stay the same."
   ]
  },
  {
   "cell_type": "markdown",
   "metadata": {},
   "source": [
    "### 4.1:\n",
    "* Add more layers to your model. If the data are complex you need more layers. But don't use more layers than you need. If adding more layers does not improve the model performance you don't need additional layers.\n"
   ]
  },
  {
   "cell_type": "code",
   "execution_count": 14,
   "metadata": {},
   "outputs": [
    {
     "name": "stdout",
     "output_type": "stream",
     "text": [
      "--- Improvement 1: Training a Bigger Model ---\n",
      "Epoch 1/60\n",
      "\u001b[1m24/24\u001b[0m \u001b[32m━━━━━━━━━━━━━━━━━━━━\u001b[0m\u001b[37m\u001b[0m \u001b[1m1s\u001b[0m 16ms/step - accuracy: 0.6527 - loss: 0.6418 - val_accuracy: 0.6719 - val_loss: 0.6303\n",
      "Epoch 2/60\n",
      "\u001b[1m24/24\u001b[0m \u001b[32m━━━━━━━━━━━━━━━━━━━━\u001b[0m\u001b[37m\u001b[0m \u001b[1m0s\u001b[0m 9ms/step - accuracy: 0.6723 - loss: 0.6227 - val_accuracy: 0.6667 - val_loss: 0.6357\n",
      "Epoch 3/60\n",
      "\u001b[1m24/24\u001b[0m \u001b[32m━━━━━━━━━━━━━━━━━━━━\u001b[0m\u001b[37m\u001b[0m \u001b[1m0s\u001b[0m 9ms/step - accuracy: 0.6593 - loss: 0.6300 - val_accuracy: 0.6615 - val_loss: 0.6342\n",
      "Epoch 4/60\n",
      "\u001b[1m24/24\u001b[0m \u001b[32m━━━━━━━━━━━━━━━━━━━━\u001b[0m\u001b[37m\u001b[0m \u001b[1m0s\u001b[0m 9ms/step - accuracy: 0.6841 - loss: 0.6246 - val_accuracy: 0.6615 - val_loss: 0.6479\n",
      "Epoch 5/60\n",
      "\u001b[1m24/24\u001b[0m \u001b[32m━━━━━━━━━━━━━━━━━━━━\u001b[0m\u001b[37m\u001b[0m \u001b[1m0s\u001b[0m 8ms/step - accuracy: 0.6410 - loss: 0.6387 - val_accuracy: 0.6615 - val_loss: 0.6363\n",
      "Epoch 6/60\n",
      "\u001b[1m24/24\u001b[0m \u001b[32m━━━━━━━━━━━━━━━━━━━━\u001b[0m\u001b[37m\u001b[0m \u001b[1m0s\u001b[0m 9ms/step - accuracy: 0.6580 - loss: 0.6254 - val_accuracy: 0.6406 - val_loss: 0.6342\n",
      "Epoch 7/60\n",
      "\u001b[1m24/24\u001b[0m \u001b[32m━━━━━━━━━━━━━━━━━━━━\u001b[0m\u001b[37m\u001b[0m \u001b[1m0s\u001b[0m 8ms/step - accuracy: 0.6475 - loss: 0.6280 - val_accuracy: 0.6615 - val_loss: 0.6327\n",
      "Epoch 8/60\n",
      "\u001b[1m24/24\u001b[0m \u001b[32m━━━━━━━━━━━━━━━━━━━━\u001b[0m\u001b[37m\u001b[0m \u001b[1m0s\u001b[0m 8ms/step - accuracy: 0.6684 - loss: 0.6335 - val_accuracy: 0.5885 - val_loss: 0.6590\n",
      "Epoch 9/60\n",
      "\u001b[1m24/24\u001b[0m \u001b[32m━━━━━━━━━━━━━━━━━━━━\u001b[0m\u001b[37m\u001b[0m \u001b[1m0s\u001b[0m 8ms/step - accuracy: 0.6501 - loss: 0.6316 - val_accuracy: 0.6823 - val_loss: 0.6492\n",
      "Epoch 10/60\n",
      "\u001b[1m24/24\u001b[0m \u001b[32m━━━━━━━━━━━━━━━━━━━━\u001b[0m\u001b[37m\u001b[0m \u001b[1m0s\u001b[0m 8ms/step - accuracy: 0.6214 - loss: 0.6582 - val_accuracy: 0.5156 - val_loss: 0.6983\n",
      "Epoch 11/60\n",
      "\u001b[1m24/24\u001b[0m \u001b[32m━━━━━━━━━━━━━━━━━━━━\u001b[0m\u001b[37m\u001b[0m \u001b[1m0s\u001b[0m 8ms/step - accuracy: 0.6292 - loss: 0.6563 - val_accuracy: 0.6198 - val_loss: 0.6898\n",
      "Epoch 12/60\n",
      "\u001b[1m24/24\u001b[0m \u001b[32m━━━━━━━━━━━━━━━━━━━━\u001b[0m\u001b[37m\u001b[0m \u001b[1m0s\u001b[0m 9ms/step - accuracy: 0.6175 - loss: 0.6887 - val_accuracy: 0.6615 - val_loss: 0.6619\n",
      "Epoch 13/60\n",
      "\u001b[1m24/24\u001b[0m \u001b[32m━━━━━━━━━━━━━━━━━━━━\u001b[0m\u001b[37m\u001b[0m \u001b[1m0s\u001b[0m 9ms/step - accuracy: 0.6214 - loss: 0.6773 - val_accuracy: 0.5990 - val_loss: 0.6760\n",
      "Epoch 14/60\n",
      "\u001b[1m24/24\u001b[0m \u001b[32m━━━━━━━━━━━━━━━━━━━━\u001b[0m\u001b[37m\u001b[0m \u001b[1m0s\u001b[0m 10ms/step - accuracy: 0.6201 - loss: 0.6752 - val_accuracy: 0.6562 - val_loss: 0.7197\n",
      "Epoch 15/60\n",
      "\u001b[1m24/24\u001b[0m \u001b[32m━━━━━━━━━━━━━━━━━━━━\u001b[0m\u001b[37m\u001b[0m \u001b[1m0s\u001b[0m 8ms/step - accuracy: 0.6488 - loss: 0.6740 - val_accuracy: 0.6406 - val_loss: 0.7106\n",
      "Epoch 16/60\n",
      "\u001b[1m24/24\u001b[0m \u001b[32m━━━━━━━━━━━━━━━━━━━━\u001b[0m\u001b[37m\u001b[0m \u001b[1m0s\u001b[0m 8ms/step - accuracy: 0.5862 - loss: 0.7811 - val_accuracy: 0.6146 - val_loss: 1.1268\n",
      "Epoch 17/60\n",
      "\u001b[1m24/24\u001b[0m \u001b[32m━━━━━━━━━━━━━━━━━━━━\u001b[0m\u001b[37m\u001b[0m \u001b[1m0s\u001b[0m 9ms/step - accuracy: 0.5979 - loss: 0.7818 - val_accuracy: 0.6510 - val_loss: 0.8301\n",
      "Epoch 18/60\n",
      "\u001b[1m24/24\u001b[0m \u001b[32m━━━━━━━━━━━━━━━━━━━━\u001b[0m\u001b[37m\u001b[0m \u001b[1m0s\u001b[0m 8ms/step - accuracy: 0.5966 - loss: 0.7816 - val_accuracy: 0.5312 - val_loss: 1.0838\n",
      "Epoch 19/60\n",
      "\u001b[1m24/24\u001b[0m \u001b[32m━━━━━━━━━━━━━━━━━━━━\u001b[0m\u001b[37m\u001b[0m \u001b[1m0s\u001b[0m 9ms/step - accuracy: 0.5966 - loss: 0.8439 - val_accuracy: 0.5208 - val_loss: 0.9099\n",
      "Epoch 20/60\n",
      "\u001b[1m24/24\u001b[0m \u001b[32m━━━━━━━━━━━━━━━━━━━━\u001b[0m\u001b[37m\u001b[0m \u001b[1m0s\u001b[0m 8ms/step - accuracy: 0.5640 - loss: 0.9617 - val_accuracy: 0.6094 - val_loss: 0.6576\n",
      "Epoch 21/60\n",
      "\u001b[1m24/24\u001b[0m \u001b[32m━━━━━━━━━━━━━━━━━━━━\u001b[0m\u001b[37m\u001b[0m \u001b[1m0s\u001b[0m 8ms/step - accuracy: 0.6136 - loss: 0.8154 - val_accuracy: 0.6250 - val_loss: 1.0708\n",
      "Epoch 22/60\n",
      "\u001b[1m24/24\u001b[0m \u001b[32m━━━━━━━━━━━━━━━━━━━━\u001b[0m\u001b[37m\u001b[0m \u001b[1m0s\u001b[0m 8ms/step - accuracy: 0.6044 - loss: 0.8314 - val_accuracy: 0.6406 - val_loss: 0.6578\n",
      "Epoch 23/60\n",
      "\u001b[1m24/24\u001b[0m \u001b[32m━━━━━━━━━━━━━━━━━━━━\u001b[0m\u001b[37m\u001b[0m \u001b[1m0s\u001b[0m 8ms/step - accuracy: 0.5979 - loss: 0.7825 - val_accuracy: 0.6302 - val_loss: 0.9892\n",
      "Epoch 24/60\n",
      "\u001b[1m24/24\u001b[0m \u001b[32m━━━━━━━━━━━━━━━━━━━━\u001b[0m\u001b[37m\u001b[0m \u001b[1m0s\u001b[0m 8ms/step - accuracy: 0.5979 - loss: 0.8098 - val_accuracy: 0.5625 - val_loss: 0.7033\n",
      "Epoch 25/60\n",
      "\u001b[1m24/24\u001b[0m \u001b[32m━━━━━━━━━━━━━━━━━━━━\u001b[0m\u001b[37m\u001b[0m \u001b[1m0s\u001b[0m 8ms/step - accuracy: 0.5992 - loss: 0.8671 - val_accuracy: 0.6146 - val_loss: 0.8903\n",
      "Epoch 26/60\n",
      "\u001b[1m24/24\u001b[0m \u001b[32m━━━━━━━━━━━━━━━━━━━━\u001b[0m\u001b[37m\u001b[0m \u001b[1m0s\u001b[0m 8ms/step - accuracy: 0.5862 - loss: 1.2733 - val_accuracy: 0.4896 - val_loss: 1.2145\n",
      "Epoch 27/60\n",
      "\u001b[1m24/24\u001b[0m \u001b[32m━━━━━━━━━━━━━━━━━━━━\u001b[0m\u001b[37m\u001b[0m \u001b[1m0s\u001b[0m 8ms/step - accuracy: 0.5783 - loss: 1.0819 - val_accuracy: 0.4010 - val_loss: 2.1197\n",
      "Epoch 28/60\n",
      "\u001b[1m24/24\u001b[0m \u001b[32m━━━━━━━━━━━━━━━━━━━━\u001b[0m\u001b[37m\u001b[0m \u001b[1m0s\u001b[0m 8ms/step - accuracy: 0.5627 - loss: 1.4742 - val_accuracy: 0.6302 - val_loss: 0.7329\n",
      "Epoch 29/60\n",
      "\u001b[1m24/24\u001b[0m \u001b[32m━━━━━━━━━━━━━━━━━━━━\u001b[0m\u001b[37m\u001b[0m \u001b[1m0s\u001b[0m 8ms/step - accuracy: 0.5979 - loss: 1.0790 - val_accuracy: 0.5260 - val_loss: 1.5982\n",
      "Epoch 30/60\n",
      "\u001b[1m24/24\u001b[0m \u001b[32m━━━━━━━━━━━━━━━━━━━━\u001b[0m\u001b[37m\u001b[0m \u001b[1m0s\u001b[0m 8ms/step - accuracy: 0.5953 - loss: 1.0658 - val_accuracy: 0.6302 - val_loss: 1.0619\n",
      "Epoch 31/60\n",
      "\u001b[1m24/24\u001b[0m \u001b[32m━━━━━━━━━━━━━━━━━━━━\u001b[0m\u001b[37m\u001b[0m \u001b[1m0s\u001b[0m 9ms/step - accuracy: 0.5809 - loss: 1.5845 - val_accuracy: 0.6354 - val_loss: 0.8442\n",
      "Epoch 32/60\n",
      "\u001b[1m24/24\u001b[0m \u001b[32m━━━━━━━━━━━━━━━━━━━━\u001b[0m\u001b[37m\u001b[0m \u001b[1m0s\u001b[0m 8ms/step - accuracy: 0.5587 - loss: 1.1689 - val_accuracy: 0.6510 - val_loss: 1.1841\n",
      "Epoch 33/60\n",
      "\u001b[1m24/24\u001b[0m \u001b[32m━━━━━━━━━━━━━━━━━━━━\u001b[0m\u001b[37m\u001b[0m \u001b[1m0s\u001b[0m 8ms/step - accuracy: 0.5770 - loss: 2.5172 - val_accuracy: 0.4219 - val_loss: 6.9307\n",
      "Epoch 34/60\n",
      "\u001b[1m24/24\u001b[0m \u001b[32m━━━━━━━━━━━━━━━━━━━━\u001b[0m\u001b[37m\u001b[0m \u001b[1m0s\u001b[0m 8ms/step - accuracy: 0.5574 - loss: 2.5074 - val_accuracy: 0.4688 - val_loss: 1.5300\n",
      "Epoch 35/60\n",
      "\u001b[1m24/24\u001b[0m \u001b[32m━━━━━━━━━━━━━━━━━━━━\u001b[0m\u001b[37m\u001b[0m \u001b[1m0s\u001b[0m 8ms/step - accuracy: 0.5431 - loss: 1.5018 - val_accuracy: 0.6302 - val_loss: 1.8050\n",
      "Epoch 36/60\n",
      "\u001b[1m24/24\u001b[0m \u001b[32m━━━━━━━━━━━━━━━━━━━━\u001b[0m\u001b[37m\u001b[0m \u001b[1m0s\u001b[0m 8ms/step - accuracy: 0.5313 - loss: 2.3936 - val_accuracy: 0.4167 - val_loss: 3.2728\n",
      "Epoch 37/60\n",
      "\u001b[1m24/24\u001b[0m \u001b[32m━━━━━━━━━━━━━━━━━━━━\u001b[0m\u001b[37m\u001b[0m \u001b[1m0s\u001b[0m 9ms/step - accuracy: 0.5574 - loss: 3.1377 - val_accuracy: 0.6094 - val_loss: 2.6206\n",
      "Epoch 38/60\n",
      "\u001b[1m24/24\u001b[0m \u001b[32m━━━━━━━━━━━━━━━━━━━━\u001b[0m\u001b[37m\u001b[0m \u001b[1m0s\u001b[0m 8ms/step - accuracy: 0.5444 - loss: 2.4995 - val_accuracy: 0.3958 - val_loss: 2.6143\n",
      "Epoch 39/60\n",
      "\u001b[1m24/24\u001b[0m \u001b[32m━━━━━━━━━━━━━━━━━━━━\u001b[0m\u001b[37m\u001b[0m \u001b[1m0s\u001b[0m 8ms/step - accuracy: 0.5561 - loss: 1.8562 - val_accuracy: 0.6146 - val_loss: 1.3442\n",
      "Epoch 40/60\n",
      "\u001b[1m24/24\u001b[0m \u001b[32m━━━━━━━━━━━━━━━━━━━━\u001b[0m\u001b[37m\u001b[0m \u001b[1m0s\u001b[0m 9ms/step - accuracy: 0.5757 - loss: 2.5725 - val_accuracy: 0.5833 - val_loss: 5.4633\n",
      "Epoch 41/60\n",
      "\u001b[1m24/24\u001b[0m \u001b[32m━━━━━━━━━━━━━━━━━━━━\u001b[0m\u001b[37m\u001b[0m \u001b[1m0s\u001b[0m 8ms/step - accuracy: 0.5065 - loss: 4.3765 - val_accuracy: 0.4844 - val_loss: 3.2641\n",
      "Epoch 42/60\n",
      "\u001b[1m24/24\u001b[0m \u001b[32m━━━━━━━━━━━━━━━━━━━━\u001b[0m\u001b[37m\u001b[0m \u001b[1m0s\u001b[0m 8ms/step - accuracy: 0.5614 - loss: 3.0540 - val_accuracy: 0.6510 - val_loss: 2.1942\n",
      "Epoch 43/60\n",
      "\u001b[1m24/24\u001b[0m \u001b[32m━━━━━━━━━━━━━━━━━━━━\u001b[0m\u001b[37m\u001b[0m \u001b[1m0s\u001b[0m 8ms/step - accuracy: 0.5862 - loss: 2.9896 - val_accuracy: 0.3958 - val_loss: 6.0742\n",
      "Epoch 44/60\n",
      "\u001b[1m24/24\u001b[0m \u001b[32m━━━━━━━━━━━━━━━━━━━━\u001b[0m\u001b[37m\u001b[0m \u001b[1m0s\u001b[0m 8ms/step - accuracy: 0.5496 - loss: 2.7988 - val_accuracy: 0.4896 - val_loss: 3.4276\n",
      "Epoch 45/60\n",
      "\u001b[1m24/24\u001b[0m \u001b[32m━━━━━━━━━━━━━━━━━━━━\u001b[0m\u001b[37m\u001b[0m \u001b[1m0s\u001b[0m 8ms/step - accuracy: 0.5366 - loss: 2.6284 - val_accuracy: 0.6510 - val_loss: 3.2603\n",
      "Epoch 46/60\n",
      "\u001b[1m24/24\u001b[0m \u001b[32m━━━━━━━━━━━━━━━━━━━━\u001b[0m\u001b[37m\u001b[0m \u001b[1m0s\u001b[0m 8ms/step - accuracy: 0.5705 - loss: 3.3663 - val_accuracy: 0.5208 - val_loss: 4.3934\n",
      "Epoch 47/60\n",
      "\u001b[1m24/24\u001b[0m \u001b[32m━━━━━━━━━━━━━━━━━━━━\u001b[0m\u001b[37m\u001b[0m \u001b[1m0s\u001b[0m 9ms/step - accuracy: 0.5313 - loss: 3.9608 - val_accuracy: 0.5885 - val_loss: 3.5752\n",
      "Epoch 48/60\n",
      "\u001b[1m24/24\u001b[0m \u001b[32m━━━━━━━━━━━━━━━━━━━━\u001b[0m\u001b[37m\u001b[0m \u001b[1m0s\u001b[0m 8ms/step - accuracy: 0.5718 - loss: 3.0465 - val_accuracy: 0.5365 - val_loss: 1.7493\n",
      "Epoch 49/60\n",
      "\u001b[1m24/24\u001b[0m \u001b[32m━━━━━━━━━━━━━━━━━━━━\u001b[0m\u001b[37m\u001b[0m \u001b[1m0s\u001b[0m 8ms/step - accuracy: 0.5614 - loss: 3.6885 - val_accuracy: 0.4271 - val_loss: 5.3339\n",
      "Epoch 50/60\n",
      "\u001b[1m24/24\u001b[0m \u001b[32m━━━━━━━━━━━━━━━━━━━━\u001b[0m\u001b[37m\u001b[0m \u001b[1m0s\u001b[0m 8ms/step - accuracy: 0.5574 - loss: 2.4276 - val_accuracy: 0.5938 - val_loss: 3.4373\n",
      "Epoch 51/60\n",
      "\u001b[1m24/24\u001b[0m \u001b[32m━━━━━━━━━━━━━━━━━━━━\u001b[0m\u001b[37m\u001b[0m \u001b[1m0s\u001b[0m 9ms/step - accuracy: 0.5770 - loss: 4.0567 - val_accuracy: 0.6094 - val_loss: 4.0472\n",
      "Epoch 52/60\n",
      "\u001b[1m24/24\u001b[0m \u001b[32m━━━━━━━━━━━━━━━━━━━━\u001b[0m\u001b[37m\u001b[0m \u001b[1m0s\u001b[0m 8ms/step - accuracy: 0.5849 - loss: 2.5579 - val_accuracy: 0.6562 - val_loss: 4.7587\n",
      "Epoch 53/60\n",
      "\u001b[1m24/24\u001b[0m \u001b[32m━━━━━━━━━━━━━━━━━━━━\u001b[0m\u001b[37m\u001b[0m \u001b[1m0s\u001b[0m 8ms/step - accuracy: 0.5470 - loss: 4.7539 - val_accuracy: 0.6510 - val_loss: 8.7712\n",
      "Epoch 54/60\n",
      "\u001b[1m24/24\u001b[0m \u001b[32m━━━━━━━━━━━━━━━━━━━━\u001b[0m\u001b[37m\u001b[0m \u001b[1m0s\u001b[0m 8ms/step - accuracy: 0.5300 - loss: 6.5960 - val_accuracy: 0.6042 - val_loss: 6.9262\n",
      "Epoch 55/60\n",
      "\u001b[1m24/24\u001b[0m \u001b[32m━━━━━━━━━━━━━━━━━━━━\u001b[0m\u001b[37m\u001b[0m \u001b[1m0s\u001b[0m 9ms/step - accuracy: 0.5170 - loss: 6.6824 - val_accuracy: 0.6510 - val_loss: 1.2796\n",
      "Epoch 56/60\n",
      "\u001b[1m24/24\u001b[0m \u001b[32m━━━━━━━━━━━━━━━━━━━━\u001b[0m\u001b[37m\u001b[0m \u001b[1m0s\u001b[0m 8ms/step - accuracy: 0.5587 - loss: 4.8015 - val_accuracy: 0.4167 - val_loss: 4.4610\n",
      "Epoch 57/60\n",
      "\u001b[1m24/24\u001b[0m \u001b[32m━━━━━━━━━━━━━━━━━━━━\u001b[0m\u001b[37m\u001b[0m \u001b[1m0s\u001b[0m 8ms/step - accuracy: 0.5535 - loss: 3.4188 - val_accuracy: 0.6094 - val_loss: 3.2331\n",
      "Epoch 58/60\n",
      "\u001b[1m24/24\u001b[0m \u001b[32m━━━━━━━━━━━━━━━━━━━━\u001b[0m\u001b[37m\u001b[0m \u001b[1m0s\u001b[0m 8ms/step - accuracy: 0.5548 - loss: 3.2289 - val_accuracy: 0.5365 - val_loss: 1.1906\n",
      "Epoch 59/60\n",
      "\u001b[1m24/24\u001b[0m \u001b[32m━━━━━━━━━━━━━━━━━━━━\u001b[0m\u001b[37m\u001b[0m \u001b[1m0s\u001b[0m 8ms/step - accuracy: 0.5065 - loss: 4.2574 - val_accuracy: 0.6146 - val_loss: 6.4265\n",
      "Epoch 60/60\n",
      "\u001b[1m24/24\u001b[0m \u001b[32m━━━━━━━━━━━━━━━━━━━━\u001b[0m\u001b[37m\u001b[0m \u001b[1m0s\u001b[0m 8ms/step - accuracy: 0.5705 - loss: 5.3708 - val_accuracy: 0.5781 - val_loss: 2.1419\n",
      "Bigger Model Test Accuracy: 0.5781\n",
      "\n"
     ]
    }
   ],
   "source": [
    "# Improvement 1: Bigger Model (More layers/neurons)\n",
    "print(\"--- Improvement 1: Training a Bigger Model ---\")\n",
    "\n",
    "improved_model = Sequential()\n",
    "improved_model.add(Dense(units=256, activation='relu', input_dim=9))\n",
    "improved_model.add(Dense(units=128, activation='relu'))\n",
    "improved_model.add(Dense(units=64, activation='relu'))\n",
    "improved_model.add(Dense(units=2, activation='softmax'))\n",
    "\n",
    "improved_model.compile(optimizer='adam',\n",
    "                       loss='sparse_categorical_crossentropy',\n",
    "                       metrics=['accuracy'])\n",
    "\n",
    "# Train for 60 epochs (same as before)\n",
    "history_1 = improved_model.fit(X_train, y_train, epochs=60, batch_size=32, validation_data=(X_test, y_test))\n",
    "\n",
    "# Evaluate\n",
    "test_loss_1, test_accuracy_1 = improved_model.evaluate(X_test, y_test, verbose=0)\n",
    "print(f\"Bigger Model Test Accuracy: {test_accuracy_1:.4f}\\n\")"
   ]
  },
  {
   "cell_type": "markdown",
   "metadata": {},
   "source": [
    "### 4.2:\n",
    "* Adjust the learning rate when you compile the model. This means you will create a custom `tf.keras.optimizers.Adam` instance where you specify the learning rate you want. Then pass the instance to `model.compile` as the optimizer.\n",
    "    * `tf.keras.optimizers.Adam` [reference](https://www.tensorflow.org/api_docs/python/tf/keras/optimizers/Adam).\n",
    "    * Don't worry if you don't understand what the learning rate does. You'll learn about it in the next challenge.\n"
   ]
  },
  {
   "cell_type": "code",
   "execution_count": 15,
   "metadata": {},
   "outputs": [
    {
     "name": "stdout",
     "output_type": "stream",
     "text": [
      "--- Improvement 2: Adjusting Learning Rate ---\n",
      "Epoch 1/60\n",
      "\u001b[1m24/24\u001b[0m \u001b[32m━━━━━━━━━━━━━━━━━━━━\u001b[0m\u001b[37m\u001b[0m \u001b[1m1s\u001b[0m 16ms/step - accuracy: 0.6619 - loss: 0.6324 - val_accuracy: 0.6771 - val_loss: 0.6246\n",
      "Epoch 2/60\n",
      "\u001b[1m24/24\u001b[0m \u001b[32m━━━━━━━━━━━━━━━━━━━━\u001b[0m\u001b[37m\u001b[0m \u001b[1m0s\u001b[0m 10ms/step - accuracy: 0.6906 - loss: 0.6255 - val_accuracy: 0.6823 - val_loss: 0.6243\n",
      "Epoch 3/60\n",
      "\u001b[1m24/24\u001b[0m \u001b[32m━━━━━━━━━━━━━━━━━━━━\u001b[0m\u001b[37m\u001b[0m \u001b[1m0s\u001b[0m 9ms/step - accuracy: 0.6710 - loss: 0.6201 - val_accuracy: 0.6719 - val_loss: 0.6248\n",
      "Epoch 4/60\n",
      "\u001b[1m24/24\u001b[0m \u001b[32m━━━━━━━━━━━━━━━━━━━━\u001b[0m\u001b[37m\u001b[0m \u001b[1m0s\u001b[0m 9ms/step - accuracy: 0.6802 - loss: 0.6184 - val_accuracy: 0.6771 - val_loss: 0.6235\n",
      "Epoch 5/60\n",
      "\u001b[1m24/24\u001b[0m \u001b[32m━━━━━━━━━━━━━━━━━━━━\u001b[0m\u001b[37m\u001b[0m \u001b[1m0s\u001b[0m 10ms/step - accuracy: 0.6749 - loss: 0.6166 - val_accuracy: 0.6719 - val_loss: 0.6196\n",
      "Epoch 6/60\n",
      "\u001b[1m24/24\u001b[0m \u001b[32m━━━━━━━━━━━━━━━━━━━━\u001b[0m\u001b[37m\u001b[0m \u001b[1m0s\u001b[0m 10ms/step - accuracy: 0.6710 - loss: 0.6222 - val_accuracy: 0.6667 - val_loss: 0.6222\n",
      "Epoch 7/60\n",
      "\u001b[1m24/24\u001b[0m \u001b[32m━━━━━━━━━━━━━━━━━━━━\u001b[0m\u001b[37m\u001b[0m \u001b[1m0s\u001b[0m 10ms/step - accuracy: 0.6632 - loss: 0.6245 - val_accuracy: 0.6771 - val_loss: 0.6281\n",
      "Epoch 8/60\n",
      "\u001b[1m24/24\u001b[0m \u001b[32m━━━━━━━━━━━━━━━━━━━━\u001b[0m\u001b[37m\u001b[0m \u001b[1m0s\u001b[0m 10ms/step - accuracy: 0.6723 - loss: 0.6254 - val_accuracy: 0.6771 - val_loss: 0.6253\n",
      "Epoch 9/60\n",
      "\u001b[1m24/24\u001b[0m \u001b[32m━━━━━━━━━━━━━━━━━━━━\u001b[0m\u001b[37m\u001b[0m \u001b[1m0s\u001b[0m 9ms/step - accuracy: 0.6645 - loss: 0.6224 - val_accuracy: 0.6562 - val_loss: 0.6273\n",
      "Epoch 10/60\n",
      "\u001b[1m24/24\u001b[0m \u001b[32m━━━━━━━━━━━━━━━━━━━━\u001b[0m\u001b[37m\u001b[0m \u001b[1m0s\u001b[0m 10ms/step - accuracy: 0.6540 - loss: 0.6231 - val_accuracy: 0.6823 - val_loss: 0.6216\n",
      "Epoch 11/60\n",
      "\u001b[1m24/24\u001b[0m \u001b[32m━━━━━━━━━━━━━━━━━━━━\u001b[0m\u001b[37m\u001b[0m \u001b[1m0s\u001b[0m 10ms/step - accuracy: 0.6658 - loss: 0.6226 - val_accuracy: 0.6667 - val_loss: 0.6297\n",
      "Epoch 12/60\n",
      "\u001b[1m24/24\u001b[0m \u001b[32m━━━━━━━━━━━━━━━━━━━━\u001b[0m\u001b[37m\u001b[0m \u001b[1m0s\u001b[0m 10ms/step - accuracy: 0.6736 - loss: 0.6297 - val_accuracy: 0.6562 - val_loss: 0.6284\n",
      "Epoch 13/60\n",
      "\u001b[1m24/24\u001b[0m \u001b[32m━━━━━━━━━━━━━━━━━━━━\u001b[0m\u001b[37m\u001b[0m \u001b[1m0s\u001b[0m 10ms/step - accuracy: 0.6501 - loss: 0.6322 - val_accuracy: 0.6615 - val_loss: 0.6384\n",
      "Epoch 14/60\n",
      "\u001b[1m24/24\u001b[0m \u001b[32m━━━━━━━━━━━━━━━━━━━━\u001b[0m\u001b[37m\u001b[0m \u001b[1m0s\u001b[0m 10ms/step - accuracy: 0.6345 - loss: 0.6332 - val_accuracy: 0.6510 - val_loss: 0.6354\n",
      "Epoch 15/60\n",
      "\u001b[1m24/24\u001b[0m \u001b[32m━━━━━━━━━━━━━━━━━━━━\u001b[0m\u001b[37m\u001b[0m \u001b[1m0s\u001b[0m 10ms/step - accuracy: 0.6462 - loss: 0.6249 - val_accuracy: 0.5833 - val_loss: 0.6435\n",
      "Epoch 16/60\n",
      "\u001b[1m24/24\u001b[0m \u001b[32m━━━━━━━━━━━━━━━━━━━━\u001b[0m\u001b[37m\u001b[0m \u001b[1m0s\u001b[0m 10ms/step - accuracy: 0.6332 - loss: 0.6394 - val_accuracy: 0.6250 - val_loss: 0.6632\n",
      "Epoch 17/60\n",
      "\u001b[1m24/24\u001b[0m \u001b[32m━━━━━━━━━━━━━━━━━━━━\u001b[0m\u001b[37m\u001b[0m \u001b[1m0s\u001b[0m 10ms/step - accuracy: 0.6070 - loss: 0.6648 - val_accuracy: 0.6302 - val_loss: 0.7029\n",
      "Epoch 18/60\n",
      "\u001b[1m24/24\u001b[0m \u001b[32m━━━━━━━━━━━━━━━━━━━━\u001b[0m\u001b[37m\u001b[0m \u001b[1m0s\u001b[0m 10ms/step - accuracy: 0.5953 - loss: 0.6902 - val_accuracy: 0.6510 - val_loss: 0.7351\n",
      "Epoch 19/60\n",
      "\u001b[1m24/24\u001b[0m \u001b[32m━━━━━━━━━━━━━━━━━━━━\u001b[0m\u001b[37m\u001b[0m \u001b[1m0s\u001b[0m 10ms/step - accuracy: 0.6214 - loss: 0.7543 - val_accuracy: 0.6042 - val_loss: 0.7152\n",
      "Epoch 20/60\n",
      "\u001b[1m24/24\u001b[0m \u001b[32m━━━━━━━━━━━━━━━━━━━━\u001b[0m\u001b[37m\u001b[0m \u001b[1m0s\u001b[0m 10ms/step - accuracy: 0.6319 - loss: 0.6534 - val_accuracy: 0.6458 - val_loss: 0.6394\n",
      "Epoch 21/60\n",
      "\u001b[1m24/24\u001b[0m \u001b[32m━━━━━━━━━━━━━━━━━━━━\u001b[0m\u001b[37m\u001b[0m \u001b[1m0s\u001b[0m 10ms/step - accuracy: 0.5927 - loss: 0.7330 - val_accuracy: 0.4635 - val_loss: 0.9293\n",
      "Epoch 22/60\n",
      "\u001b[1m24/24\u001b[0m \u001b[32m━━━━━━━━━━━━━━━━━━━━\u001b[0m\u001b[37m\u001b[0m \u001b[1m0s\u001b[0m 10ms/step - accuracy: 0.5718 - loss: 0.7746 - val_accuracy: 0.6510 - val_loss: 0.6655\n",
      "Epoch 23/60\n",
      "\u001b[1m24/24\u001b[0m \u001b[32m━━━━━━━━━━━━━━━━━━━━\u001b[0m\u001b[37m\u001b[0m \u001b[1m0s\u001b[0m 10ms/step - accuracy: 0.6384 - loss: 0.6546 - val_accuracy: 0.6458 - val_loss: 0.7153\n",
      "Epoch 24/60\n",
      "\u001b[1m24/24\u001b[0m \u001b[32m━━━━━━━━━━━━━━━━━━━━\u001b[0m\u001b[37m\u001b[0m \u001b[1m0s\u001b[0m 10ms/step - accuracy: 0.5953 - loss: 0.7974 - val_accuracy: 0.6146 - val_loss: 0.7344\n",
      "Epoch 25/60\n",
      "\u001b[1m24/24\u001b[0m \u001b[32m━━━━━━━━━━━━━━━━━━━━\u001b[0m\u001b[37m\u001b[0m \u001b[1m0s\u001b[0m 10ms/step - accuracy: 0.6332 - loss: 0.6746 - val_accuracy: 0.6615 - val_loss: 0.6592\n",
      "Epoch 26/60\n",
      "\u001b[1m24/24\u001b[0m \u001b[32m━━━━━━━━━━━━━━━━━━━━\u001b[0m\u001b[37m\u001b[0m \u001b[1m0s\u001b[0m 9ms/step - accuracy: 0.6149 - loss: 0.6903 - val_accuracy: 0.5990 - val_loss: 0.7549\n",
      "Epoch 27/60\n",
      "\u001b[1m24/24\u001b[0m \u001b[32m━━━━━━━━━━━━━━━━━━━━\u001b[0m\u001b[37m\u001b[0m \u001b[1m0s\u001b[0m 10ms/step - accuracy: 0.5366 - loss: 1.0423 - val_accuracy: 0.6250 - val_loss: 1.1354\n",
      "Epoch 28/60\n",
      "\u001b[1m24/24\u001b[0m \u001b[32m━━━━━━━━━━━━━━━━━━━━\u001b[0m\u001b[37m\u001b[0m \u001b[1m0s\u001b[0m 10ms/step - accuracy: 0.5731 - loss: 1.0200 - val_accuracy: 0.4219 - val_loss: 1.5162\n",
      "Epoch 29/60\n",
      "\u001b[1m24/24\u001b[0m \u001b[32m━━━━━━━━━━━━━━━━━━━━\u001b[0m\u001b[37m\u001b[0m \u001b[1m0s\u001b[0m 10ms/step - accuracy: 0.5770 - loss: 0.9436 - val_accuracy: 0.6458 - val_loss: 1.1376\n",
      "Epoch 30/60\n",
      "\u001b[1m24/24\u001b[0m \u001b[32m━━━━━━━━━━━━━━━━━━━━\u001b[0m\u001b[37m\u001b[0m \u001b[1m0s\u001b[0m 10ms/step - accuracy: 0.5705 - loss: 0.8688 - val_accuracy: 0.5885 - val_loss: 0.9267\n",
      "Epoch 31/60\n",
      "\u001b[1m24/24\u001b[0m \u001b[32m━━━━━━━━━━━━━━━━━━━━\u001b[0m\u001b[37m\u001b[0m \u001b[1m0s\u001b[0m 10ms/step - accuracy: 0.5927 - loss: 0.8730 - val_accuracy: 0.5938 - val_loss: 1.6668\n",
      "Epoch 32/60\n",
      "\u001b[1m24/24\u001b[0m \u001b[32m━━━━━━━━━━━━━━━━━━━━\u001b[0m\u001b[37m\u001b[0m \u001b[1m0s\u001b[0m 10ms/step - accuracy: 0.5431 - loss: 1.4519 - val_accuracy: 0.6198 - val_loss: 1.5893\n",
      "Epoch 33/60\n",
      "\u001b[1m24/24\u001b[0m \u001b[32m━━━━━━━━━━━━━━━━━━━━\u001b[0m\u001b[37m\u001b[0m \u001b[1m0s\u001b[0m 9ms/step - accuracy: 0.5666 - loss: 1.0498 - val_accuracy: 0.6510 - val_loss: 0.9339\n",
      "Epoch 34/60\n",
      "\u001b[1m24/24\u001b[0m \u001b[32m━━━━━━━━━━━━━━━━━━━━\u001b[0m\u001b[37m\u001b[0m \u001b[1m0s\u001b[0m 10ms/step - accuracy: 0.5731 - loss: 1.1152 - val_accuracy: 0.6354 - val_loss: 1.2729\n",
      "Epoch 35/60\n",
      "\u001b[1m24/24\u001b[0m \u001b[32m━━━━━━━━━━━━━━━━━━━━\u001b[0m\u001b[37m\u001b[0m \u001b[1m0s\u001b[0m 9ms/step - accuracy: 0.6031 - loss: 0.9859 - val_accuracy: 0.6667 - val_loss: 0.8195\n",
      "Epoch 36/60\n",
      "\u001b[1m24/24\u001b[0m \u001b[32m━━━━━━━━━━━━━━━━━━━━\u001b[0m\u001b[37m\u001b[0m \u001b[1m0s\u001b[0m 10ms/step - accuracy: 0.5418 - loss: 2.6073 - val_accuracy: 0.6042 - val_loss: 3.4148\n",
      "Epoch 37/60\n",
      "\u001b[1m24/24\u001b[0m \u001b[32m━━━━━━━━━━━━━━━━━━━━\u001b[0m\u001b[37m\u001b[0m \u001b[1m0s\u001b[0m 10ms/step - accuracy: 0.5914 - loss: 1.3895 - val_accuracy: 0.4271 - val_loss: 1.1729\n",
      "Epoch 38/60\n",
      "\u001b[1m24/24\u001b[0m \u001b[32m━━━━━━━━━━━━━━━━━━━━\u001b[0m\u001b[37m\u001b[0m \u001b[1m0s\u001b[0m 10ms/step - accuracy: 0.5653 - loss: 1.1628 - val_accuracy: 0.6458 - val_loss: 0.7322\n",
      "Epoch 39/60\n",
      "\u001b[1m24/24\u001b[0m \u001b[32m━━━━━━━━━━━━━━━━━━━━\u001b[0m\u001b[37m\u001b[0m \u001b[1m0s\u001b[0m 9ms/step - accuracy: 0.5888 - loss: 1.1581 - val_accuracy: 0.6615 - val_loss: 0.9763\n",
      "Epoch 40/60\n",
      "\u001b[1m24/24\u001b[0m \u001b[32m━━━━━━━━━━━━━━━━━━━━\u001b[0m\u001b[37m\u001b[0m \u001b[1m0s\u001b[0m 16ms/step - accuracy: 0.5535 - loss: 1.4704 - val_accuracy: 0.6250 - val_loss: 2.2076\n",
      "Epoch 41/60\n",
      "\u001b[1m24/24\u001b[0m \u001b[32m━━━━━━━━━━━━━━━━━━━━\u001b[0m\u001b[37m\u001b[0m \u001b[1m0s\u001b[0m 10ms/step - accuracy: 0.5587 - loss: 1.6705 - val_accuracy: 0.3594 - val_loss: 1.7802\n",
      "Epoch 42/60\n",
      "\u001b[1m24/24\u001b[0m \u001b[32m━━━━━━━━━━━━━━━━━━━━\u001b[0m\u001b[37m\u001b[0m \u001b[1m0s\u001b[0m 10ms/step - accuracy: 0.5836 - loss: 1.2007 - val_accuracy: 0.6250 - val_loss: 1.1075\n",
      "Epoch 43/60\n",
      "\u001b[1m24/24\u001b[0m \u001b[32m━━━━━━━━━━━━━━━━━━━━\u001b[0m\u001b[37m\u001b[0m \u001b[1m0s\u001b[0m 10ms/step - accuracy: 0.5705 - loss: 2.6323 - val_accuracy: 0.4740 - val_loss: 1.6108\n",
      "Epoch 44/60\n",
      "\u001b[1m24/24\u001b[0m \u001b[32m━━━━━━━━━━━━━━━━━━━━\u001b[0m\u001b[37m\u001b[0m \u001b[1m0s\u001b[0m 10ms/step - accuracy: 0.5979 - loss: 0.9861 - val_accuracy: 0.3958 - val_loss: 2.4857\n",
      "Epoch 45/60\n",
      "\u001b[1m24/24\u001b[0m \u001b[32m━━━━━━━━━━━━━━━━━━━━\u001b[0m\u001b[37m\u001b[0m \u001b[1m0s\u001b[0m 10ms/step - accuracy: 0.5548 - loss: 2.1980 - val_accuracy: 0.4062 - val_loss: 2.6414\n",
      "Epoch 46/60\n",
      "\u001b[1m24/24\u001b[0m \u001b[32m━━━━━━━━━━━━━━━━━━━━\u001b[0m\u001b[37m\u001b[0m \u001b[1m0s\u001b[0m 10ms/step - accuracy: 0.5627 - loss: 2.6991 - val_accuracy: 0.5938 - val_loss: 2.6994\n",
      "Epoch 47/60\n",
      "\u001b[1m24/24\u001b[0m \u001b[32m━━━━━━━━━━━━━━━━━━━━\u001b[0m\u001b[37m\u001b[0m \u001b[1m0s\u001b[0m 12ms/step - accuracy: 0.5548 - loss: 2.3587 - val_accuracy: 0.6354 - val_loss: 1.2542\n",
      "Epoch 48/60\n",
      "\u001b[1m24/24\u001b[0m \u001b[32m━━━━━━━━━━━━━━━━━━━━\u001b[0m\u001b[37m\u001b[0m \u001b[1m0s\u001b[0m 10ms/step - accuracy: 0.5392 - loss: 1.8827 - val_accuracy: 0.6146 - val_loss: 2.6251\n",
      "Epoch 49/60\n",
      "\u001b[1m24/24\u001b[0m \u001b[32m━━━━━━━━━━━━━━━━━━━━\u001b[0m\u001b[37m\u001b[0m \u001b[1m0s\u001b[0m 10ms/step - accuracy: 0.5496 - loss: 3.1166 - val_accuracy: 0.5781 - val_loss: 1.8883\n",
      "Epoch 50/60\n",
      "\u001b[1m24/24\u001b[0m \u001b[32m━━━━━━━━━━━━━━━━━━━━\u001b[0m\u001b[37m\u001b[0m \u001b[1m0s\u001b[0m 10ms/step - accuracy: 0.5522 - loss: 2.5794 - val_accuracy: 0.6250 - val_loss: 2.5493\n",
      "Epoch 51/60\n",
      "\u001b[1m24/24\u001b[0m \u001b[32m━━━━━━━━━━━━━━━━━━━━\u001b[0m\u001b[37m\u001b[0m \u001b[1m0s\u001b[0m 9ms/step - accuracy: 0.5326 - loss: 2.8997 - val_accuracy: 0.5938 - val_loss: 5.5002\n",
      "Epoch 52/60\n",
      "\u001b[1m24/24\u001b[0m \u001b[32m━━━━━━━━━━━━━━━━━━━━\u001b[0m\u001b[37m\u001b[0m \u001b[1m0s\u001b[0m 9ms/step - accuracy: 0.5352 - loss: 3.3525 - val_accuracy: 0.4115 - val_loss: 2.8412\n",
      "Epoch 53/60\n",
      "\u001b[1m24/24\u001b[0m \u001b[32m━━━━━━━━━━━━━━━━━━━━\u001b[0m\u001b[37m\u001b[0m \u001b[1m0s\u001b[0m 10ms/step - accuracy: 0.5561 - loss: 3.7334 - val_accuracy: 0.6302 - val_loss: 2.4512\n",
      "Epoch 54/60\n",
      "\u001b[1m24/24\u001b[0m \u001b[32m━━━━━━━━━━━━━━━━━━━━\u001b[0m\u001b[37m\u001b[0m \u001b[1m0s\u001b[0m 10ms/step - accuracy: 0.5653 - loss: 3.1542 - val_accuracy: 0.6094 - val_loss: 2.0187\n",
      "Epoch 55/60\n",
      "\u001b[1m24/24\u001b[0m \u001b[32m━━━━━━━━━━━━━━━━━━━━\u001b[0m\u001b[37m\u001b[0m \u001b[1m0s\u001b[0m 11ms/step - accuracy: 0.5287 - loss: 3.7428 - val_accuracy: 0.6719 - val_loss: 0.8478\n",
      "Epoch 56/60\n",
      "\u001b[1m24/24\u001b[0m \u001b[32m━━━━━━━━━━━━━━━━━━━━\u001b[0m\u001b[37m\u001b[0m \u001b[1m0s\u001b[0m 10ms/step - accuracy: 0.5849 - loss: 2.5143 - val_accuracy: 0.5938 - val_loss: 6.0308\n",
      "Epoch 57/60\n",
      "\u001b[1m24/24\u001b[0m \u001b[32m━━━━━━━━━━━━━━━━━━━━\u001b[0m\u001b[37m\u001b[0m \u001b[1m0s\u001b[0m 9ms/step - accuracy: 0.5574 - loss: 3.5923 - val_accuracy: 0.3958 - val_loss: 7.4423\n",
      "Epoch 58/60\n",
      "\u001b[1m24/24\u001b[0m \u001b[32m━━━━━━━━━━━━━━━━━━━━\u001b[0m\u001b[37m\u001b[0m \u001b[1m0s\u001b[0m 10ms/step - accuracy: 0.5509 - loss: 6.7943 - val_accuracy: 0.6510 - val_loss: 7.2555\n",
      "Epoch 59/60\n",
      "\u001b[1m24/24\u001b[0m \u001b[32m━━━━━━━━━━━━━━━━━━━━\u001b[0m\u001b[37m\u001b[0m \u001b[1m0s\u001b[0m 9ms/step - accuracy: 0.5183 - loss: 7.6867 - val_accuracy: 0.5938 - val_loss: 2.4106\n",
      "Epoch 60/60\n",
      "\u001b[1m24/24\u001b[0m \u001b[32m━━━━━━━━━━━━━━━━━━━━\u001b[0m\u001b[37m\u001b[0m \u001b[1m0s\u001b[0m 11ms/step - accuracy: 0.5783 - loss: 3.3974 - val_accuracy: 0.4583 - val_loss: 3.1076\n",
      "Adjusted LR Model Test Accuracy: 0.4583\n",
      "\n"
     ]
    }
   ],
   "source": [
    "# Improvement 2: Adjust Learning Rate\n",
    "print(\"--- Improvement 2: Adjusting Learning Rate ---\")\n",
    "\n",
    "from tensorflow.keras.optimizers import Adam\n",
    "\n",
    "# Create a new model (same architecture as the original)\n",
    "lr_model = Sequential()\n",
    "lr_model.add(Dense(units=128, activation='relu', input_dim=9))\n",
    "lr_model.add(Dense(units=64, activation='relu'))\n",
    "lr_model.add(Dense(units=64, activation='relu'))\n",
    "lr_model.add(Dense(units=64, activation='relu'))\n",
    "lr_model.add(Dense(units=2, activation='softmax'))\n",
    "\n",
    "# Use a custom Adam optimizer with a smaller learning rate\n",
    "custom_adam = Adam(learning_rate=0.0005) # Default is 0.001\n",
    "lr_model.compile(optimizer=custom_adam,\n",
    "                 loss='sparse_categorical_crossentropy',\n",
    "                 metrics=['accuracy'])\n",
    "\n",
    "# Train for 10 epochs\n",
    "history_2 = lr_model.fit(X_train, y_train, epochs=60, batch_size=32, validation_data=(X_test, y_test))\n",
    "\n",
    "# Evaluate\n",
    "test_loss_2, test_accuracy_2 = lr_model.evaluate(X_test, y_test, verbose=0)\n",
    "print(f\"Adjusted LR Model Test Accuracy: {test_accuracy_2:.4f}\\n\")"
   ]
  },
  {
   "cell_type": "markdown",
   "metadata": {},
   "source": [
    "### 4.3 Improvement 3: Train for More Epochs\n",
    "\n",
    "* Adjust the number of epochs when you fit the training data to the model. Your model performance continues to improve as you train more epochs. But eventually it will reach the ceiling and the performance will stay the same."
   ]
  },
  {
   "cell_type": "code",
   "execution_count": null,
   "metadata": {},
   "outputs": [
    {
     "name": "stdout",
     "output_type": "stream",
     "text": [
      "--- Improvement 3: Training for More Epochs ---\n",
      "Epoch 1/20\n",
      "\u001b[1m24/24\u001b[0m \u001b[32m━━━━━━━━━━━━━━━━━━━━\u001b[0m\u001b[37m\u001b[0m \u001b[1m0s\u001b[0m 10ms/step - accuracy: 0.6057 - loss: 0.7113 - val_accuracy: 0.6458 - val_loss: 0.6694\n",
      "Epoch 2/20\n",
      "\u001b[1m24/24\u001b[0m \u001b[32m━━━━━━━━━━━━━━━━━━━━\u001b[0m\u001b[37m\u001b[0m \u001b[1m0s\u001b[0m 9ms/step - accuracy: 0.6240 - loss: 0.6762 - val_accuracy: 0.5156 - val_loss: 0.7128\n",
      "Epoch 3/20\n",
      "\u001b[1m24/24\u001b[0m \u001b[32m━━━━━━━━━━━━━━━━━━━━\u001b[0m\u001b[37m\u001b[0m \u001b[1m0s\u001b[0m 10ms/step - accuracy: 0.5849 - loss: 0.7532 - val_accuracy: 0.5833 - val_loss: 0.7905\n",
      "Epoch 4/20\n",
      "\u001b[1m24/24\u001b[0m \u001b[32m━━━━━━━━━━━━━━━━━━━━\u001b[0m\u001b[37m\u001b[0m \u001b[1m0s\u001b[0m 9ms/step - accuracy: 0.5666 - loss: 0.8505 - val_accuracy: 0.6250 - val_loss: 0.9155\n",
      "Epoch 5/20\n",
      "\u001b[1m24/24\u001b[0m \u001b[32m━━━━━━━━━━━━━━━━━━━━\u001b[0m\u001b[37m\u001b[0m \u001b[1m0s\u001b[0m 9ms/step - accuracy: 0.5705 - loss: 0.8226 - val_accuracy: 0.6094 - val_loss: 0.8096\n",
      "Epoch 6/20\n",
      "\u001b[1m24/24\u001b[0m \u001b[32m━━━━━━━━━━━━━━━━━━━━\u001b[0m\u001b[37m\u001b[0m \u001b[1m0s\u001b[0m 9ms/step - accuracy: 0.5966 - loss: 0.8028 - val_accuracy: 0.6146 - val_loss: 0.9948\n",
      "Epoch 7/20\n",
      "\u001b[1m24/24\u001b[0m \u001b[32m━━━━━━━━━━━━━━━━━━━━\u001b[0m\u001b[37m\u001b[0m \u001b[1m0s\u001b[0m 9ms/step - accuracy: 0.6175 - loss: 0.8445 - val_accuracy: 0.5938 - val_loss: 1.0788\n",
      "Epoch 8/20\n",
      "\u001b[1m24/24\u001b[0m \u001b[32m━━━━━━━━━━━━━━━━━━━━\u001b[0m\u001b[37m\u001b[0m \u001b[1m0s\u001b[0m 9ms/step - accuracy: 0.6345 - loss: 0.7412 - val_accuracy: 0.5052 - val_loss: 1.1735\n",
      "Epoch 9/20\n",
      "\u001b[1m24/24\u001b[0m \u001b[32m━━━━━━━━━━━━━━━━━━━━\u001b[0m\u001b[37m\u001b[0m \u001b[1m0s\u001b[0m 9ms/step - accuracy: 0.6031 - loss: 0.8085 - val_accuracy: 0.6146 - val_loss: 0.7159\n",
      "Epoch 10/20\n",
      "\u001b[1m24/24\u001b[0m \u001b[32m━━━━━━━━━━━━━━━━━━━━\u001b[0m\u001b[37m\u001b[0m \u001b[1m0s\u001b[0m 9ms/step - accuracy: 0.5927 - loss: 0.8508 - val_accuracy: 0.5208 - val_loss: 0.9014\n",
      "Epoch 11/20\n",
      "\u001b[1m24/24\u001b[0m \u001b[32m━━━━━━━━━━━━━━━━━━━━\u001b[0m\u001b[37m\u001b[0m \u001b[1m0s\u001b[0m 9ms/step - accuracy: 0.5614 - loss: 1.6496 - val_accuracy: 0.5000 - val_loss: 1.5801\n",
      "Epoch 12/20\n",
      "\u001b[1m24/24\u001b[0m \u001b[32m━━━━━━━━━━━━━━━━━━━━\u001b[0m\u001b[37m\u001b[0m \u001b[1m0s\u001b[0m 9ms/step - accuracy: 0.5601 - loss: 1.5496 - val_accuracy: 0.6615 - val_loss: 0.8305\n",
      "Epoch 13/20\n",
      "\u001b[1m24/24\u001b[0m \u001b[32m━━━━━━━━━━━━━━━━━━━━\u001b[0m\u001b[37m\u001b[0m \u001b[1m0s\u001b[0m 9ms/step - accuracy: 0.5862 - loss: 1.3660 - val_accuracy: 0.6510 - val_loss: 2.4515\n",
      "Epoch 14/20\n",
      "\u001b[1m24/24\u001b[0m \u001b[32m━━━━━━━━━━━━━━━━━━━━\u001b[0m\u001b[37m\u001b[0m \u001b[1m0s\u001b[0m 10ms/step - accuracy: 0.5914 - loss: 1.7001 - val_accuracy: 0.6510 - val_loss: 1.0826\n",
      "Epoch 15/20\n",
      "\u001b[1m24/24\u001b[0m \u001b[32m━━━━━━━━━━━━━━━━━━━━\u001b[0m\u001b[37m\u001b[0m \u001b[1m0s\u001b[0m 9ms/step - accuracy: 0.5836 - loss: 1.3076 - val_accuracy: 0.4375 - val_loss: 2.8464\n",
      "Epoch 16/20\n",
      "\u001b[1m24/24\u001b[0m \u001b[32m━━━━━━━━━━━━━━━━━━━━\u001b[0m\u001b[37m\u001b[0m \u001b[1m0s\u001b[0m 9ms/step - accuracy: 0.5692 - loss: 1.3756 - val_accuracy: 0.6510 - val_loss: 1.1435\n",
      "Epoch 17/20\n",
      "\u001b[1m24/24\u001b[0m \u001b[32m━━━━━━━━━━━━━━━━━━━━\u001b[0m\u001b[37m\u001b[0m \u001b[1m0s\u001b[0m 10ms/step - accuracy: 0.5888 - loss: 1.1165 - val_accuracy: 0.4167 - val_loss: 3.0855\n",
      "Epoch 18/20\n",
      "\u001b[1m24/24\u001b[0m \u001b[32m━━━━━━━━━━━━━━━━━━━━\u001b[0m\u001b[37m\u001b[0m \u001b[1m0s\u001b[0m 9ms/step - accuracy: 0.5731 - loss: 2.3511 - val_accuracy: 0.4010 - val_loss: 2.5576\n",
      "Epoch 19/20\n",
      "\u001b[1m24/24\u001b[0m \u001b[32m━━━━━━━━━━━━━━━━━━━━\u001b[0m\u001b[37m\u001b[0m \u001b[1m0s\u001b[0m 12ms/step - accuracy: 0.5705 - loss: 2.3277 - val_accuracy: 0.6094 - val_loss: 2.4570\n",
      "Epoch 20/20\n",
      "\u001b[1m24/24\u001b[0m \u001b[32m━━━━━━━━━━━━━━━━━━━━\u001b[0m\u001b[37m\u001b[0m \u001b[1m0s\u001b[0m 9ms/step - accuracy: 0.5653 - loss: 2.0228 - val_accuracy: 0.6250 - val_loss: 1.1279\n",
      "More Epochs Model Test Accuracy: 0.6250\n",
      "\n"
     ]
    }
   ],
   "source": [
    "# Improvement 3: Train for More Epochs\n",
    "print(\"--- Improvement 3: Training for More Epochs ---\")\n",
    "\n",
    "# Let's take the best model so far and train it longer\n",
    "# We'll use the model from Improvement 1 (bigger model) and train for 10 more epochs (20 total)\n",
    "history_3 = improved_model.fit(X_train, y_train, epochs=60, batch_size=32, validation_data=(X_test, y_test))\n",
    "\n",
    "# Evaluate\n",
    "test_loss_3, test_accuracy_3 = improved_model.evaluate(X_test, y_test, verbose=0)\n",
    "print(f\"More Epochs Model Test Accuracy: {test_accuracy_3:.4f}\\n\")"
   ]
  },
  {
   "cell_type": "code",
   "execution_count": 18,
   "metadata": {},
   "outputs": [
    {
     "name": "stdout",
     "output_type": "stream",
     "text": [
      "Epoch 1/100\n"
     ]
    },
    {
     "name": "stderr",
     "output_type": "stream",
     "text": [
      "/opt/anaconda3/envs/tf_env/lib/python3.11/site-packages/keras/src/layers/core/dense.py:92: UserWarning: Do not pass an `input_shape`/`input_dim` argument to a layer. When using Sequential models, prefer using an `Input(shape)` object as the first layer in the model instead.\n",
      "  super().__init__(activity_regularizer=activity_regularizer, **kwargs)\n"
     ]
    },
    {
     "name": "stdout",
     "output_type": "stream",
     "text": [
      "\u001b[1m128/128\u001b[0m \u001b[32m━━━━━━━━━━━━━━━━━━━━\u001b[0m\u001b[37m\u001b[0m \u001b[1m2s\u001b[0m 10ms/step - accuracy: 0.6540 - loss: 0.6319 - val_accuracy: 0.7188 - val_loss: 0.5619\n",
      "Epoch 2/100\n",
      "\u001b[1m128/128\u001b[0m \u001b[32m━━━━━━━━━━━━━━━━━━━━\u001b[0m\u001b[37m\u001b[0m \u001b[1m1s\u001b[0m 8ms/step - accuracy: 0.6997 - loss: 0.5565 - val_accuracy: 0.7396 - val_loss: 0.5127\n",
      "Epoch 3/100\n",
      "\u001b[1m128/128\u001b[0m \u001b[32m━━━━━━━━━━━━━━━━━━━━\u001b[0m\u001b[37m\u001b[0m \u001b[1m1s\u001b[0m 8ms/step - accuracy: 0.7245 - loss: 0.5324 - val_accuracy: 0.7812 - val_loss: 0.5116\n",
      "Epoch 4/100\n",
      "\u001b[1m128/128\u001b[0m \u001b[32m━━━━━━━━━━━━━━━━━━━━\u001b[0m\u001b[37m\u001b[0m \u001b[1m1s\u001b[0m 8ms/step - accuracy: 0.7428 - loss: 0.5088 - val_accuracy: 0.7760 - val_loss: 0.4675\n",
      "Epoch 5/100\n",
      "\u001b[1m128/128\u001b[0m \u001b[32m━━━━━━━━━━━━━━━━━━━━\u001b[0m\u001b[37m\u001b[0m \u001b[1m1s\u001b[0m 8ms/step - accuracy: 0.7676 - loss: 0.4759 - val_accuracy: 0.7969 - val_loss: 0.4271\n",
      "Epoch 6/100\n",
      "\u001b[1m128/128\u001b[0m \u001b[32m━━━━━━━━━━━━━━━━━━━━\u001b[0m\u001b[37m\u001b[0m \u001b[1m1s\u001b[0m 8ms/step - accuracy: 0.7859 - loss: 0.4382 - val_accuracy: 0.8542 - val_loss: 0.3898\n",
      "Epoch 7/100\n",
      "\u001b[1m128/128\u001b[0m \u001b[32m━━━━━━━━━━━━━━━━━━━━\u001b[0m\u001b[37m\u001b[0m \u001b[1m1s\u001b[0m 9ms/step - accuracy: 0.8016 - loss: 0.4280 - val_accuracy: 0.8385 - val_loss: 0.3515\n",
      "Epoch 8/100\n",
      "\u001b[1m128/128\u001b[0m \u001b[32m━━━━━━━━━━━━━━━━━━━━\u001b[0m\u001b[37m\u001b[0m \u001b[1m1s\u001b[0m 8ms/step - accuracy: 0.8225 - loss: 0.3960 - val_accuracy: 0.8802 - val_loss: 0.2919\n",
      "Epoch 9/100\n",
      "\u001b[1m128/128\u001b[0m \u001b[32m━━━━━━━━━━━━━━━━━━━━\u001b[0m\u001b[37m\u001b[0m \u001b[1m1s\u001b[0m 9ms/step - accuracy: 0.8525 - loss: 0.3659 - val_accuracy: 0.9375 - val_loss: 0.2436\n",
      "Epoch 10/100\n",
      "\u001b[1m128/128\u001b[0m \u001b[32m━━━━━━━━━━━━━━━━━━━━\u001b[0m\u001b[37m\u001b[0m \u001b[1m1s\u001b[0m 8ms/step - accuracy: 0.8695 - loss: 0.3197 - val_accuracy: 0.8854 - val_loss: 0.2738\n",
      "Epoch 11/100\n",
      "\u001b[1m128/128\u001b[0m \u001b[32m━━━━━━━━━━━━━━━━━━━━\u001b[0m\u001b[37m\u001b[0m \u001b[1m1s\u001b[0m 8ms/step - accuracy: 0.8982 - loss: 0.2625 - val_accuracy: 0.9635 - val_loss: 0.1870\n",
      "Epoch 12/100\n",
      "\u001b[1m128/128\u001b[0m \u001b[32m━━━━━━━━━━━━━━━━━━━━\u001b[0m\u001b[37m\u001b[0m \u001b[1m1s\u001b[0m 8ms/step - accuracy: 0.9047 - loss: 0.2531 - val_accuracy: 0.9688 - val_loss: 0.1440\n",
      "Epoch 13/100\n",
      "\u001b[1m128/128\u001b[0m \u001b[32m━━━━━━━━━━━━━━━━━━━━\u001b[0m\u001b[37m\u001b[0m \u001b[1m1s\u001b[0m 8ms/step - accuracy: 0.9399 - loss: 0.1928 - val_accuracy: 0.9688 - val_loss: 0.1327\n",
      "Epoch 14/100\n",
      "\u001b[1m128/128\u001b[0m \u001b[32m━━━━━━━━━━━━━━━━━━━━\u001b[0m\u001b[37m\u001b[0m \u001b[1m1s\u001b[0m 8ms/step - accuracy: 0.9399 - loss: 0.1690 - val_accuracy: 0.9635 - val_loss: 0.1148\n",
      "Epoch 15/100\n",
      "\u001b[1m128/128\u001b[0m \u001b[32m━━━━━━━━━━━━━━━━━━━━\u001b[0m\u001b[37m\u001b[0m \u001b[1m1s\u001b[0m 8ms/step - accuracy: 0.9347 - loss: 0.1999 - val_accuracy: 0.9688 - val_loss: 0.1113\n",
      "Epoch 16/100\n",
      "\u001b[1m128/128\u001b[0m \u001b[32m━━━━━━━━━━━━━━━━━━━━\u001b[0m\u001b[37m\u001b[0m \u001b[1m1s\u001b[0m 10ms/step - accuracy: 0.9556 - loss: 0.1552 - val_accuracy: 0.9688 - val_loss: 0.1009\n",
      "Epoch 17/100\n",
      "\u001b[1m128/128\u001b[0m \u001b[32m━━━━━━━━━━━━━━━━━━━━\u001b[0m\u001b[37m\u001b[0m \u001b[1m1s\u001b[0m 8ms/step - accuracy: 0.9426 - loss: 0.1564 - val_accuracy: 0.9688 - val_loss: 0.0944\n",
      "Epoch 18/100\n",
      "\u001b[1m128/128\u001b[0m \u001b[32m━━━━━━━━━━━━━━━━━━━━\u001b[0m\u001b[37m\u001b[0m \u001b[1m1s\u001b[0m 8ms/step - accuracy: 0.9517 - loss: 0.1677 - val_accuracy: 0.9688 - val_loss: 0.1130\n",
      "Epoch 19/100\n",
      "\u001b[1m128/128\u001b[0m \u001b[32m━━━━━━━━━━━━━━━━━━━━\u001b[0m\u001b[37m\u001b[0m \u001b[1m1s\u001b[0m 8ms/step - accuracy: 0.9661 - loss: 0.1289 - val_accuracy: 0.9688 - val_loss: 0.1430\n",
      "Epoch 20/100\n",
      "\u001b[1m128/128\u001b[0m \u001b[32m━━━━━━━━━━━━━━━━━━━━\u001b[0m\u001b[37m\u001b[0m \u001b[1m1s\u001b[0m 9ms/step - accuracy: 0.9634 - loss: 0.1238 - val_accuracy: 0.9688 - val_loss: 0.1404\n",
      "Epoch 21/100\n",
      "\u001b[1m128/128\u001b[0m \u001b[32m━━━━━━━━━━━━━━━━━━━━\u001b[0m\u001b[37m\u001b[0m \u001b[1m1s\u001b[0m 8ms/step - accuracy: 0.9687 - loss: 0.1336 - val_accuracy: 0.9688 - val_loss: 0.1165\n",
      "Epoch 22/100\n",
      "\u001b[1m128/128\u001b[0m \u001b[32m━━━━━━━━━━━━━━━━━━━━\u001b[0m\u001b[37m\u001b[0m \u001b[1m1s\u001b[0m 8ms/step - accuracy: 0.9648 - loss: 0.1496 - val_accuracy: 0.9688 - val_loss: 0.1164\n",
      "Epoch 23/100\n",
      "\u001b[1m128/128\u001b[0m \u001b[32m━━━━━━━━━━━━━━━━━━━━\u001b[0m\u001b[37m\u001b[0m \u001b[1m1s\u001b[0m 8ms/step - accuracy: 0.9661 - loss: 0.1259 - val_accuracy: 0.9688 - val_loss: 0.0995\n",
      "Epoch 24/100\n",
      "\u001b[1m128/128\u001b[0m \u001b[32m━━━━━━━━━━━━━━━━━━━━\u001b[0m\u001b[37m\u001b[0m \u001b[1m1s\u001b[0m 9ms/step - accuracy: 0.9687 - loss: 0.1277 - val_accuracy: 0.9688 - val_loss: 0.1062\n",
      "Epoch 25/100\n",
      "\u001b[1m128/128\u001b[0m \u001b[32m━━━━━━━━━━━━━━━━━━━━\u001b[0m\u001b[37m\u001b[0m \u001b[1m1s\u001b[0m 10ms/step - accuracy: 0.9648 - loss: 0.1290 - val_accuracy: 0.9688 - val_loss: 0.0933\n",
      "Epoch 26/100\n",
      "\u001b[1m128/128\u001b[0m \u001b[32m━━━━━━━━━━━━━━━━━━━━\u001b[0m\u001b[37m\u001b[0m \u001b[1m1s\u001b[0m 9ms/step - accuracy: 0.9621 - loss: 0.1224 - val_accuracy: 0.9688 - val_loss: 0.0963\n",
      "Epoch 27/100\n",
      "\u001b[1m128/128\u001b[0m \u001b[32m━━━━━━━━━━━━━━━━━━━━\u001b[0m\u001b[37m\u001b[0m \u001b[1m1s\u001b[0m 8ms/step - accuracy: 0.9674 - loss: 0.1207 - val_accuracy: 0.9688 - val_loss: 0.0964\n",
      "Epoch 28/100\n",
      "\u001b[1m128/128\u001b[0m \u001b[32m━━━━━━━━━━━━━━━━━━━━\u001b[0m\u001b[37m\u001b[0m \u001b[1m1s\u001b[0m 8ms/step - accuracy: 0.9739 - loss: 0.1094 - val_accuracy: 0.9688 - val_loss: 0.1525\n",
      "Epoch 29/100\n",
      "\u001b[1m128/128\u001b[0m \u001b[32m━━━━━━━━━━━━━━━━━━━━\u001b[0m\u001b[37m\u001b[0m \u001b[1m1s\u001b[0m 9ms/step - accuracy: 0.9661 - loss: 0.1202 - val_accuracy: 0.9688 - val_loss: 0.1201\n",
      "Epoch 30/100\n",
      "\u001b[1m128/128\u001b[0m \u001b[32m━━━━━━━━━━━━━━━━━━━━\u001b[0m\u001b[37m\u001b[0m \u001b[1m1s\u001b[0m 9ms/step - accuracy: 0.9687 - loss: 0.1006 - val_accuracy: 0.9688 - val_loss: 0.1521\n",
      "Epoch 31/100\n",
      "\u001b[1m128/128\u001b[0m \u001b[32m━━━━━━━━━━━━━━━━━━━━\u001b[0m\u001b[37m\u001b[0m \u001b[1m1s\u001b[0m 8ms/step - accuracy: 0.9713 - loss: 0.1004 - val_accuracy: 0.9688 - val_loss: 0.1176\n",
      "Epoch 32/100\n",
      "\u001b[1m128/128\u001b[0m \u001b[32m━━━━━━━━━━━━━━━━━━━━\u001b[0m\u001b[37m\u001b[0m \u001b[1m1s\u001b[0m 8ms/step - accuracy: 0.9687 - loss: 0.1022 - val_accuracy: 0.9688 - val_loss: 0.1401\n",
      "Epoch 33/100\n",
      "\u001b[1m128/128\u001b[0m \u001b[32m━━━━━━━━━━━━━━━━━━━━\u001b[0m\u001b[37m\u001b[0m \u001b[1m1s\u001b[0m 8ms/step - accuracy: 0.9726 - loss: 0.1134 - val_accuracy: 0.9688 - val_loss: 0.1198\n",
      "Epoch 34/100\n",
      "\u001b[1m128/128\u001b[0m \u001b[32m━━━━━━━━━━━━━━━━━━━━\u001b[0m\u001b[37m\u001b[0m \u001b[1m1s\u001b[0m 8ms/step - accuracy: 0.9687 - loss: 0.0987 - val_accuracy: 0.9688 - val_loss: 0.0967\n",
      "Epoch 35/100\n",
      "\u001b[1m128/128\u001b[0m \u001b[32m━━━━━━━━━━━━━━━━━━━━\u001b[0m\u001b[37m\u001b[0m \u001b[1m1s\u001b[0m 8ms/step - accuracy: 0.9634 - loss: 0.1271 - val_accuracy: 0.9688 - val_loss: 0.1159\n",
      "\u001b[1m6/6\u001b[0m \u001b[32m━━━━━━━━━━━━━━━━━━━━\u001b[0m\u001b[37m\u001b[0m \u001b[1m0s\u001b[0m 5ms/step - accuracy: 0.9688 - loss: 0.0933 \n",
      "Test loss: 0.0933\n",
      "Test accuracy: 0.9688\n"
     ]
    }
   ],
   "source": [
    "# Import necessary libraries\n",
    "import pandas as pd\n",
    "from sklearn.model_selection import train_test_split\n",
    "from sklearn.preprocessing import OneHotEncoder\n",
    "from tensorflow.keras.models import Sequential\n",
    "from tensorflow.keras.layers import Dense, Dropout\n",
    "from tensorflow.keras.optimizers import Adam\n",
    "from tensorflow.keras.callbacks import EarlyStopping\n",
    "\n",
    "# Load the data\n",
    "df = pd.read_csv('tic-tac-toe.csv')\n",
    "\n",
    "# Separate features and target\n",
    "X = df.iloc[:, :9]  # First 9 columns\n",
    "y = df['class'].astype(int)  # Convert True/False to 1/0\n",
    "\n",
    "# One-hot encode the features\n",
    "encoder = OneHotEncoder(sparse_output=False)\n",
    "X_encoded = encoder.fit_transform(X)\n",
    "\n",
    "# Split the data into training and test sets\n",
    "X_train, X_test, y_train, y_test = train_test_split(X_encoded, y, test_size=0.2, random_state=42)\n",
    "\n",
    "# Build the model\n",
    "model = Sequential()\n",
    "model.add(Dense(64, activation='relu', input_shape=(27,)))  # 27 input features\n",
    "model.add(Dropout(0.2))  # Dropout layer with 20% rate\n",
    "model.add(Dense(30, activation='relu'))\n",
    "model.add(Dropout(0.2))  # Another dropout layer\n",
    "model.add(Dense(2, activation='softmax'))  # Output layer for 2 classes\n",
    "\n",
    "# Compile the model\n",
    "model.compile(optimizer=Adam(learning_rate=0.001),\n",
    "              loss='sparse_categorical_crossentropy',\n",
    "              metrics=['accuracy'])\n",
    "\n",
    "# Set up early stopping\n",
    "early_stop = EarlyStopping(monitor='val_loss', patience=10, restore_best_weights=True)\n",
    "\n",
    "# Train the model\n",
    "history = model.fit(X_train, y_train,\n",
    "                    batch_size=6,\n",
    "                    epochs=100,  # High number for early stopping to handle\n",
    "                    validation_data=(X_test, y_test),\n",
    "                    callbacks=[early_stop])\n",
    "\n",
    "# Evaluate the model\n",
    "test_loss, test_accuracy = model.evaluate(X_test, y_test)\n",
    "print(f\"Test loss: {test_loss:.4f}\")\n",
    "print(f\"Test accuracy: {test_accuracy:.4f}\")"
   ]
  },
  {
   "cell_type": "code",
   "execution_count": 19,
   "metadata": {},
   "outputs": [
    {
     "data": {
      "image/png": "[encoded data removed]",
      "text/plain": [
       "<Figure size 1200x500 with 2 Axes>"
      ]
     },
     "metadata": {},
     "output_type": "display_data"
    }
   ],
   "source": [
    "import matplotlib.pyplot as plt\n",
    "\n",
    "# Assuming you have the 'history' object from model.fit()\n",
    "# history = model.fit(...)\n",
    "\n",
    "# 1. Plot Training & Validation Accuracy\n",
    "plt.figure(figsize=(12, 5)) # Makes the figure wider\n",
    "\n",
    "plt.subplot(1, 2, 1) # Creates the first subplot (1 row, 2 columns, 1st plot)\n",
    "plt.plot(history.history['accuracy'], label='Training Accuracy')\n",
    "plt.plot(history.history['val_accuracy'], label='Validation Accuracy')\n",
    "plt.title('Model Accuracy')\n",
    "plt.ylabel('Accuracy')\n",
    "plt.xlabel('Epoch')\n",
    "plt.legend(loc='lower right') # Puts the legend in the lower right corner\n",
    "\n",
    "# 2. Plot Training & Validation Loss\n",
    "plt.subplot(1, 2, 2) # Creates the second subplot (1 row, 2 columns, 2nd plot)\n",
    "plt.plot(history.history['loss'], label='Training Loss')\n",
    "plt.plot(history.history['val_loss'], label='Validation Loss')\n",
    "plt.title('Model Loss')\n",
    "plt.ylabel('Loss')\n",
    "plt.xlabel('Epoch')\n",
    "plt.legend(loc='upper right') # Puts the legend in the upper right corner\n",
    "\n",
    "# Display the plots\n",
    "plt.tight_layout() # Automatically adjusts subplot params so they fit in the figure area\n",
    "plt.show()"
   ]
  },
  {
   "cell_type": "markdown",
   "metadata": {},
   "source": [
    "**Which approach(es) did you find helpful to improve your model performance?**"
   ]
  },
  {
   "cell_type": "code",
   "execution_count": null,
   "metadata": {},
   "outputs": [],
   "source": [
    "# # your answer here\n",
    "\n",
    "# **Answer:**\n",
    "# Based on my experiments, none of the suggested approaches \n",
    "# (adding more layers, adjusting the learning rate, training for more epochs) \n",
    "# significantly improved the model's performance on the test set beyond the original ~67% accuracy.\n",
    "\n",
    "# The best result was achieved by **adjusting the learning rate** (0.0005), \n",
    "# which yielded a test accuracy of **67.71%**, a very minor improvement.\n",
    "\n",
    "# This suggests that a simple neural network might be\n",
    "#  struggling to learn the underlying patterns of Tic Tac Toe wins from this dataset with these features. \n",
    "# The model's performance seems to have a ceiling with this architecture."
   ]
  }
 ],
 "metadata": {
  "kernelspec": {
   "display_name": "tf_env",
   "language": "python",
   "name": "python3"
  },
  "language_info": {
   "codemirror_mode": {
    "name": "ipython",
    "version": 3
   },
   "file_extension": ".py",
   "mimetype": "text/x-python",
   "name": "python",
   "nbconvert_exporter": "python",
   "pygments_lexer": "ipython3",
   "version": "3.11.13"
  }
 },
 "nbformat": 4,
 "nbformat_minor": 2
}
